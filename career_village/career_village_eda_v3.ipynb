{
  "cells": [
    {
      "metadata": {
        "_uuid": "8f2839f25d086af736a60e9eeb907d3b93b6e0e5",
        "_cell_guid": "b1076dfc-b9ad-4769-8c92-a6c4dae69d19",
        "trusted": true
      },
      "cell_type": "code",
      "source": "# This Python 3 environment comes with many helpful analytics libraries installed\n# It is defined by the kaggle/python docker image: https://github.com/kaggle/docker-python\n# For example, here's several helpful packages to load in \n\nimport numpy as np # linear algebra\nimport pandas as pd # data processing, CSV file I/O (e.g. pd.read_csv)\n\n# Input data files are available in the \"../input/\" directory.\n# For example, running this (by clicking run or pressing Shift+Enter) will list the files in the input directory\n\nimport os\nprint(os.listdir(\"../input\"))\n\n# Any results you write to the current directory are saved as output.",
      "execution_count": 1,
      "outputs": [
        {
          "output_type": "stream",
          "text": "['professionals.csv', 'tag_users.csv', 'students.csv', 'tag_questions.csv', 'groups.csv', 'emails.csv', 'group_memberships.csv', 'answers.csv', 'comments.csv', 'matches.csv', 'tags.csv', 'questions.csv', 'school_memberships.csv']\n",
          "name": "stdout"
        }
      ]
    },
    {
      "metadata": {
        "trusted": true,
        "_uuid": "d9a4a55eb65dd148b4f2f338432100866a798fa4"
      },
      "cell_type": "code",
      "source": "import matplotlib.pyplot as plt\nimport seaborn as sns \nsns.set()\nanswers = pd.read_csv('../input/answers.csv',parse_dates=['answers_date_added'])\nquestions = pd.read_csv('../input/questions.csv',parse_dates=['questions_date_added'])\nstudents = pd.read_csv(\"../input/students.csv\")\nstudents['students_date_joined'] = pd.to_datetime(students['students_date_joined'])\nprofessionals = pd.read_csv('../input/professionals.csv',parse_dates=['professionals_date_joined'])\nquestions = pd.read_csv('../input/questions.csv',parse_dates=['questions_date_added'])\ntag_questions = pd.read_csv('../input/tag_questions.csv')\nemails = pd.read_csv('../input/emails.csv',sep=',')",
      "execution_count": 5,
      "outputs": []
    },
    {
      "metadata": {
        "_cell_guid": "79c7e3d0-c299-4dcb-8224-4455121ee9b0",
        "_uuid": "d629ff2d2480ee46fbb7e2d37f6b5fab8052498a",
        "trusted": true
      },
      "cell_type": "code",
      "source": "print(os.listdir(\"../input\"))",
      "execution_count": null,
      "outputs": []
    },
    {
      "metadata": {
        "trusted": true,
        "_uuid": "e18fb0a7273f38700ceb808b6b8ebceedca15b76"
      },
      "cell_type": "code",
      "source": "students = pd.read_csv(\"../input/students.csv\")",
      "execution_count": 4,
      "outputs": []
    },
    {
      "metadata": {
        "trusted": true,
        "_uuid": "236613e7da9edd1b8a27e9c9d36879f8637debff"
      },
      "cell_type": "code",
      "source": "students.info()",
      "execution_count": null,
      "outputs": []
    },
    {
      "metadata": {
        "trusted": true,
        "_uuid": "452d693246521d2079fdd477f9e237ec69c526ea"
      },
      "cell_type": "code",
      "source": "#the number of students who have a missing value \nstudents.isnull().any(axis=1).sum()",
      "execution_count": null,
      "outputs": []
    },
    {
      "metadata": {
        "trusted": true,
        "_uuid": "3c04401aecb96bcb7ab8679fe7b5aed88f86cf1b"
      },
      "cell_type": "code",
      "source": "students.shape",
      "execution_count": null,
      "outputs": []
    },
    {
      "metadata": {
        "trusted": true,
        "_uuid": "04151494ab8dc61c484d043796c60e2041e5b07c"
      },
      "cell_type": "code",
      "source": "students.head()",
      "execution_count": null,
      "outputs": []
    },
    {
      "metadata": {
        "trusted": true,
        "_uuid": "b3a59b2985d45fe54d3f689fd333a73245313038"
      },
      "cell_type": "code",
      "source": "student_temp = pd.to_datetime(students['students_date_joined'])",
      "execution_count": null,
      "outputs": []
    },
    {
      "metadata": {
        "trusted": true,
        "_uuid": "3e67394d5ded3819fdd88fc2be2f71eb6cd9dc12"
      },
      "cell_type": "code",
      "source": "student_temp.head()",
      "execution_count": null,
      "outputs": []
    },
    {
      "metadata": {
        "trusted": true,
        "_uuid": "00d944e8c9403daf18e479be2b55d2c4e19e3fe9"
      },
      "cell_type": "code",
      "source": "students['students_date_joined'] = pd.to_datetime(students['students_date_joined'])",
      "execution_count": null,
      "outputs": []
    },
    {
      "metadata": {
        "trusted": true,
        "_uuid": "4c2ca179bfe799e028a182b1b5b57d92f41eeed0"
      },
      "cell_type": "code",
      "source": "students[pd.notnull(students['students_location'])].shape",
      "execution_count": null,
      "outputs": []
    },
    {
      "metadata": {
        "trusted": true,
        "_uuid": "3ea2a32368dd3868fb4487648199833d6411b198"
      },
      "cell_type": "code",
      "source": "students_locations = students['students_location'].value_counts().sort_values(ascending=True).tail(20)",
      "execution_count": null,
      "outputs": []
    },
    {
      "metadata": {
        "trusted": true,
        "_uuid": "773dc16a2309370a08ff7768f1f29393c533064f"
      },
      "cell_type": "code",
      "source": "type(students_locations)",
      "execution_count": null,
      "outputs": []
    },
    {
      "metadata": {
        "trusted": true,
        "_uuid": "827a66308d559988cea50d5d17b95d8789ed9d3e"
      },
      "cell_type": "code",
      "source": "students_locations.plot(kind='barh',figsize=(10,8),color='b',width=1)\nplt.title('Number of students by location',fontsize=20)\nplt.xlabel('Number of students',fontsize=12)\nplt.show()",
      "execution_count": null,
      "outputs": []
    },
    {
      "metadata": {
        "trusted": true,
        "_uuid": "511c4f3b793e8d8381a7386a426fd6352bcf968f"
      },
      "cell_type": "code",
      "source": "# students who do not have a location \nstudents.students_location.isna().sum()",
      "execution_count": null,
      "outputs": []
    },
    {
      "metadata": {
        "trusted": true,
        "_uuid": "9a7c5f977883093d079e7c9cefe40643def0b2a6"
      },
      "cell_type": "code",
      "source": "professionals = pd.read_csv('../input/professionals.csv',parse_dates=['professionals_date_joined'])",
      "execution_count": null,
      "outputs": []
    },
    {
      "metadata": {
        "trusted": true,
        "_uuid": "b2cb7927c1addf4674de4c05de93917b9bdc8ddb"
      },
      "cell_type": "code",
      "source": "professionals.shape",
      "execution_count": null,
      "outputs": []
    },
    {
      "metadata": {
        "trusted": true,
        "_uuid": "7a2e4d922718480a83b91e6a53a5d4986ff4dac1"
      },
      "cell_type": "code",
      "source": "professionals.info()",
      "execution_count": null,
      "outputs": []
    },
    {
      "metadata": {
        "trusted": true,
        "_uuid": "c94dc3684040ec6ff994a9e5aa5fcef8a06a7206"
      },
      "cell_type": "code",
      "source": "professionals.head()",
      "execution_count": null,
      "outputs": []
    },
    {
      "metadata": {
        "trusted": true,
        "_uuid": "548c8577e34c598997247b6a9b3102834152ba76"
      },
      "cell_type": "code",
      "source": "professionals_location = professionals.professionals_location.value_counts().sort_values(ascending=True).tail(20)",
      "execution_count": null,
      "outputs": []
    },
    {
      "metadata": {
        "trusted": true,
        "_uuid": "1796a455a15ed24a13fa4d7320dc3f1f91468eee"
      },
      "cell_type": "code",
      "source": "#draw a horizontal bar graph \nprofessionals_location.plot(kind='barh',color='b',width=1,figsize=(10,8))\nplt.title('Number of professionals by location',fontsize=20)\nplt.xlabel('Number of professionals',fontsize=12)\nplt.show()",
      "execution_count": null,
      "outputs": []
    },
    {
      "metadata": {
        "trusted": true,
        "_uuid": "6bf10f563259e3e9de0e2cd45268084407d83524"
      },
      "cell_type": "code",
      "source": "print('Total number of professionals:',professionals.shape[0])\nprint('Number of professionals without location:',professionals.professionals_location.isna().sum())",
      "execution_count": null,
      "outputs": []
    },
    {
      "metadata": {
        "trusted": true,
        "_uuid": "897bc96be2c46d823bf9502b2c42a3b9c24b153c"
      },
      "cell_type": "code",
      "source": "professionals_industry = professionals.professionals_industry.value_counts().sort_values(ascending=True).tail(30)",
      "execution_count": null,
      "outputs": []
    },
    {
      "metadata": {
        "trusted": true,
        "_uuid": "a9c083c74b845e5a545e0624843427bf9f00c87a"
      },
      "cell_type": "code",
      "source": "professionals_industry.plot(kind='barh',color='b',figsize=(10,8),width=1)\nplt.title('Number of professionals by industry',fontsize=12)\nplt.xlabel('Number of professionals',fontsize=10)\nplt.show()",
      "execution_count": null,
      "outputs": []
    },
    {
      "metadata": {
        "trusted": true,
        "_uuid": "8edbcf35647b3cc56e42ea1a35987d193d0719cb"
      },
      "cell_type": "code",
      "source": "print('The total number of professionals',professionals.shape[0])\nprint('The total number of professionals without industry',professionals.professionals_industry.isna().sum())",
      "execution_count": null,
      "outputs": []
    },
    {
      "metadata": {
        "trusted": true,
        "_uuid": "9544267b366af70530c6f5a6e67a2dd7dc08059a"
      },
      "cell_type": "code",
      "source": "questions = pd.read_csv('../input/questions.csv',parse_dates=['questions_date_added'])",
      "execution_count": null,
      "outputs": []
    },
    {
      "metadata": {
        "trusted": true,
        "_uuid": "5b5437adf3e3745934cc4ca485bf97ed8e518985"
      },
      "cell_type": "code",
      "source": "questions.shape",
      "execution_count": null,
      "outputs": []
    },
    {
      "metadata": {
        "trusted": true,
        "_uuid": "f5cbb4e0882135e048da50f847f445d66deb676d"
      },
      "cell_type": "code",
      "source": "questions.questions_author_id.value_counts().count()",
      "execution_count": null,
      "outputs": []
    },
    {
      "metadata": {
        "trusted": true,
        "_uuid": "259df2f0458d51f87795dc68934a82b00539af0d"
      },
      "cell_type": "code",
      "source": "print('Authors ',questions.questions_author_id.value_counts().count())\nprint('Unique authors ',questions.questions_author_id.nunique())",
      "execution_count": null,
      "outputs": []
    },
    {
      "metadata": {
        "trusted": true,
        "_uuid": "ec06a49906fc2dc3c298ab7438a324cf9fe89e50"
      },
      "cell_type": "code",
      "source": "answers = pd.read_csv('../input/answers.csv',parse_dates=['answers_date_added'])",
      "execution_count": null,
      "outputs": []
    },
    {
      "metadata": {
        "trusted": true,
        "_uuid": "d1be256ff813a7e24490878059c95bf382db0bae"
      },
      "cell_type": "code",
      "source": "print('There are ', answers.answers_author_id.nunique(),' unique authors on career village')\nprint('The number of registered professionals is ',professionals.shape[0])",
      "execution_count": null,
      "outputs": []
    },
    {
      "metadata": {
        "trusted": true,
        "_uuid": "fccf68b3583de809a7a48382f12336baa3e78e90"
      },
      "cell_type": "code",
      "source": "tag_questions = pd.read_csv('../input/tag_questions.csv')",
      "execution_count": null,
      "outputs": []
    },
    {
      "metadata": {
        "trusted": true,
        "_uuid": "78ced9fc58f1ffee13d59fd5cf046bc050b7a20f"
      },
      "cell_type": "code",
      "source": "tag_questions.head()",
      "execution_count": null,
      "outputs": []
    },
    {
      "metadata": {
        "trusted": true,
        "_uuid": "d441c330ae76f7e87b0c0788d12fcb48433c6deb"
      },
      "cell_type": "code",
      "source": "tags = pd.read_csv('../input/tags.csv')",
      "execution_count": null,
      "outputs": []
    },
    {
      "metadata": {
        "trusted": true,
        "_uuid": "8535bd3a9461e167a420922b6d27a995915541bb"
      },
      "cell_type": "code",
      "source": "print('The number of tags:', tags.shape[0]) \nprint('The number of unique tags: ',tags.tags_tag_id.nunique())",
      "execution_count": null,
      "outputs": []
    },
    {
      "metadata": {
        "trusted": true,
        "_uuid": "721c12fc80682ebfb9d1b79b6ec3e6f854dc3f8d"
      },
      "cell_type": "code",
      "source": "# There is one NaN tag\ntags[tags.tags_tag_name.isna()]",
      "execution_count": null,
      "outputs": []
    },
    {
      "metadata": {
        "trusted": true,
        "_uuid": "f626cecadf596306385a3b5d5ead3be96740abd2"
      },
      "cell_type": "code",
      "source": "tag_questions_tags = pd.merge(left=tag_questions,right=tags,how='inner',left_on='tag_questions_tag_id'\n                              ,right_on='tags_tag_id')",
      "execution_count": null,
      "outputs": []
    },
    {
      "metadata": {
        "trusted": true,
        "_uuid": "108a736103e394ebf6746dd9d93d0b5db1ee6680"
      },
      "cell_type": "code",
      "source": "tag_questions_tags.info()",
      "execution_count": null,
      "outputs": []
    },
    {
      "metadata": {
        "trusted": true,
        "_uuid": "5c754e5065e7b40f05c057718e9bb4d4b78d6984"
      },
      "cell_type": "code",
      "source": "top_tags_20 = tag_questions_tags.tags_tag_name.value_counts().sort_values(ascending=True).tail(20)",
      "execution_count": null,
      "outputs": []
    },
    {
      "metadata": {
        "trusted": true,
        "_uuid": "776f1b20330800e5904ace9aa6a3ed4c96f4e331"
      },
      "cell_type": "code",
      "source": "top_tags_20.plot(kind='barh',color='b',figsize=(10,8),width=1)\nplt.title('Top 20 tags',fontsize=12)\nplt.xlabel('Number of questions',fontsize=10)\nplt.show()",
      "execution_count": null,
      "outputs": []
    },
    {
      "metadata": {
        "trusted": true,
        "_uuid": "55fcace1c1b7f782774e8163db99d1e634aebbdd"
      },
      "cell_type": "code",
      "source": "tag_questions_templ = tag_questions.merge(right=tags,how='left',left_on='tag_questions_tag_id'\n                                         ,right_on='tags_tag_id'\n                                        )",
      "execution_count": null,
      "outputs": []
    },
    {
      "metadata": {
        "trusted": true,
        "_uuid": "01582eb0486426513d754aace1b33ed3c660a358"
      },
      "cell_type": "code",
      "source": "tag_questions_templ.info()",
      "execution_count": null,
      "outputs": []
    },
    {
      "metadata": {
        "trusted": true,
        "_uuid": "9b3dee8b5cc45c74d9aeb5e595c6f88ccc7b75bd"
      },
      "cell_type": "code",
      "source": "print('The number of questions with tags:',tag_questions.shape[0])\nprint('The number of questions with tags after the left join:',tag_questions_templ.shape[0])",
      "execution_count": null,
      "outputs": []
    },
    {
      "metadata": {
        "trusted": true,
        "_uuid": "d31d894fb564e59927a26800a83e657f005040b3"
      },
      "cell_type": "code",
      "source": "tag_questions_tempi = tag_questions.merge(right=tags,how='inner',left_on='tag_questions_tag_id'\n                                          ,right_on='tags_tag_id'\n                                         )",
      "execution_count": null,
      "outputs": []
    },
    {
      "metadata": {
        "trusted": true,
        "_uuid": "090c6673f7b8cbb4fdcf7e04eecd438a8f1a5136"
      },
      "cell_type": "code",
      "source": "print('The number of questions with tags:',tag_questions.shape[0])\nprint('The number of questions with tags after the inner join:',tag_questions_tempi.shape[0])",
      "execution_count": null,
      "outputs": []
    },
    {
      "metadata": {
        "trusted": true,
        "_uuid": "16dc7fc780e44ccc9ca1df0df3782d2713e6b3ff"
      },
      "cell_type": "code",
      "source": "#number of questions which are not answered \nquestions.shape",
      "execution_count": null,
      "outputs": []
    },
    {
      "metadata": {
        "trusted": true,
        "_uuid": "3e6d984fed5ba7b3d546c1219e09135cdfb95a46"
      },
      "cell_type": "code",
      "source": "answers.shape",
      "execution_count": null,
      "outputs": []
    },
    {
      "metadata": {
        "trusted": true,
        "_uuid": "2797ba3eb54c4dbab0eb5a2bf1fe40b8edc3b7b2"
      },
      "cell_type": "code",
      "source": "questions_answers_lo =  questions.merge(right=answers,how='left',left_on='questions_id',right_on='answers_question_id')",
      "execution_count": null,
      "outputs": []
    },
    {
      "metadata": {
        "trusted": true,
        "_uuid": "5c1c4970e14de1630f76374c1fcfcd7404e0bda3"
      },
      "cell_type": "code",
      "source": "questions_answers_lo.shape",
      "execution_count": null,
      "outputs": []
    },
    {
      "metadata": {
        "trusted": true,
        "_uuid": "3d9ca344ed3886bfba1634b6d499f39e416d3ea7"
      },
      "cell_type": "code",
      "source": "questions.shape",
      "execution_count": null,
      "outputs": []
    },
    {
      "metadata": {
        "trusted": true,
        "_uuid": "14166dc4cabf8139deaf08744b4fd5b45f6e7ef0"
      },
      "cell_type": "code",
      "source": "questions_answers_lo.head()",
      "execution_count": null,
      "outputs": []
    },
    {
      "metadata": {
        "trusted": true,
        "_uuid": "32c882ed05e16440449b11cfaf5fe39502979d64"
      },
      "cell_type": "code",
      "source": "questions_answers_lo[pd.isnull(questions_answers_lo.answers_id)].head()",
      "execution_count": null,
      "outputs": []
    },
    {
      "metadata": {
        "trusted": true,
        "_uuid": "793ec6a0a0586d9704669dd15b70fa5592fc8805"
      },
      "cell_type": "code",
      "source": "answers[answers.answers_question_id == 'dab7b240dc394d30a54dd0c5862d5fe3']",
      "execution_count": null,
      "outputs": []
    },
    {
      "metadata": {
        "trusted": true,
        "_uuid": "87ce2816a07e697168bb6085cd408a2e67f60910"
      },
      "cell_type": "code",
      "source": "questions[questions.questions_id == 'dab7b240dc394d30a54dd0c5862d5fe3']",
      "execution_count": null,
      "outputs": []
    },
    {
      "metadata": {
        "trusted": true,
        "_uuid": "71b11078557cf494b49e9ba459b06a4e6a5051e9"
      },
      "cell_type": "code",
      "source": "questions_answers_lo[pd.isnull(questions_answers_lo.answers_id)].head()",
      "execution_count": null,
      "outputs": []
    },
    {
      "metadata": {
        "trusted": true,
        "_uuid": "2a2c1ae523502231820a64487528376352c8f2ce"
      },
      "cell_type": "code",
      "source": "questions_unanswered = questions_answers_lo.loc[pd.isnull(questions_answers_lo.answers_id),questions.columns.tolist()]\n",
      "execution_count": null,
      "outputs": []
    },
    {
      "metadata": {
        "trusted": true,
        "_uuid": "2838b82371d6605d817b34f1844650b31067c20e"
      },
      "cell_type": "code",
      "source": "questions_unanswered_tag_questions = questions_unanswered.merge(right=tag_questions,how='inner',left_on='questions_id'\n                                                                ,right_on='tag_questions_question_id')",
      "execution_count": null,
      "outputs": []
    },
    {
      "metadata": {
        "trusted": true,
        "_uuid": "314b5a791af448ff7cfb91d5ccc320092befc42f"
      },
      "cell_type": "code",
      "source": "questions_unanswered_tag_questions.head()",
      "execution_count": null,
      "outputs": []
    },
    {
      "metadata": {
        "trusted": true,
        "_uuid": "daf1089cb7ce412a1084edaf4e265d04952816d4"
      },
      "cell_type": "code",
      "source": "questions_unanswered.shape",
      "execution_count": null,
      "outputs": []
    },
    {
      "metadata": {
        "trusted": true,
        "_uuid": "a1465eed81acb93b7389495d863369fbe1e807c2"
      },
      "cell_type": "code",
      "source": "#each question is having atleast 3 tags",
      "execution_count": null,
      "outputs": []
    },
    {
      "metadata": {
        "trusted": true,
        "_uuid": "8d650960da044430d40d18fd530af8dbfad67423"
      },
      "cell_type": "code",
      "source": "questions_unanswered_tag_questions_tags = questions_unanswered_tag_questions.merge(right=tags,\n                                                                                  how='inner',\n                                                                                   left_on = 'tag_questions_tag_id',\n                                                                                   right_on = 'tags_tag_id'\n                                                                                  )",
      "execution_count": null,
      "outputs": []
    },
    {
      "metadata": {
        "trusted": true,
        "_uuid": "7767b26e1466b83db3a0090f002480dd8922f966"
      },
      "cell_type": "code",
      "source": "uq_tags = questions_unanswered_tag_questions_tags.tags_tag_name.value_counts().sort_values().tail(30)",
      "execution_count": null,
      "outputs": []
    },
    {
      "metadata": {
        "trusted": true,
        "_uuid": "38f28a7133584f4b22b66711cf82e32a8b76fa54"
      },
      "cell_type": "code",
      "source": "uq_tags.plot(kind='barh',figsize=(10,8),color='b')\nplt.title('Top 30 tags')\nplt.xlabel('Number of unanswered questions')\nplt.show()",
      "execution_count": null,
      "outputs": []
    },
    {
      "metadata": {
        "trusted": true,
        "_uuid": "c2f84d5d92b02968440157f087ddd5df07a2d481"
      },
      "cell_type": "code",
      "source": "#time distribution of questions \ndf_questions_copy = questions.set_index(keys='questions_date_added')",
      "execution_count": null,
      "outputs": []
    },
    {
      "metadata": {
        "trusted": true,
        "_uuid": "ec6315e4b7fde0cf7f084e3d92d12c49d2892cff",
        "scrolled": false
      },
      "cell_type": "code",
      "source": "#df_questions_copy.index.year.tolist()",
      "execution_count": null,
      "outputs": []
    },
    {
      "metadata": {
        "trusted": true,
        "_uuid": "a456266cafc6b75370a666ec7893f1b03a1fa2f7"
      },
      "cell_type": "code",
      "source": "df_questions_yearly_dist = df_questions_copy['questions_id'].groupby(df_questions_copy.index.year.tolist()).count()",
      "execution_count": null,
      "outputs": []
    },
    {
      "metadata": {
        "trusted": true,
        "_uuid": "d22f3005bf1257a20c36ecbe17e8043b0971a1cd"
      },
      "cell_type": "code",
      "source": "df_questions_monthly_dist = df_questions_copy['questions_id'].groupby(df_questions_copy.index.month.tolist()).count()",
      "execution_count": null,
      "outputs": []
    },
    {
      "metadata": {
        "trusted": true,
        "_uuid": "69ba0cb1dc9dda8e58e37ed23a3f000b7567cbaa"
      },
      "cell_type": "code",
      "source": "df_questions_monthly_dist",
      "execution_count": null,
      "outputs": []
    },
    {
      "metadata": {
        "trusted": true,
        "_uuid": "c73a9b833f0fac5e77c7597630ca6f3e3ae93537"
      },
      "cell_type": "code",
      "source": "df_questions_copy['month_year'] = df_questions_copy.index.to_period(freq='M').astype('str')",
      "execution_count": null,
      "outputs": []
    },
    {
      "metadata": {
        "trusted": true,
        "_uuid": "8b936dabf901aa31242008f2c0400669dc6fa90c"
      },
      "cell_type": "code",
      "source": "df_questions_copy.head()",
      "execution_count": null,
      "outputs": []
    },
    {
      "metadata": {
        "trusted": true,
        "_uuid": "951e6c640f0790fc88b29c5b2b6f1045f41696cf"
      },
      "cell_type": "code",
      "source": "df_questions_monthly_dist = df_questions_copy[['month_year','questions_id']].groupby('month_year').count()",
      "execution_count": null,
      "outputs": []
    },
    {
      "metadata": {
        "trusted": true,
        "_uuid": "da1bce3c2085993d303ab7e40c95a70bb974f6c3"
      },
      "cell_type": "code",
      "source": "#df_questions_copy[['month_year','questions_id']].groupby('month_year').count()\ndf_questions_monthly_dist",
      "execution_count": null,
      "outputs": []
    },
    {
      "metadata": {
        "trusted": true,
        "_uuid": "beb8b3ecee712018a9b7543bad58cf0f12eeaad8"
      },
      "cell_type": "code",
      "source": "df_questions_monthly_dist.plot(kind='bar',figsize=(15,10))\nplt.title('Monthly Distribution of questions')\nplt.xlabel('Number of questions')\nplt.show()",
      "execution_count": null,
      "outputs": []
    },
    {
      "metadata": {
        "trusted": true,
        "_uuid": "60ad0f9758cc087703b1321c8511d516078f1671"
      },
      "cell_type": "code",
      "source": "questions['questions_date_added'].map(lambda x: x.year).head()",
      "execution_count": null,
      "outputs": []
    },
    {
      "metadata": {
        "trusted": true,
        "_uuid": "e5e77175eec8973297e3cd2adbde832be97885d0"
      },
      "cell_type": "code",
      "source": "questions_dist = questions.copy()",
      "execution_count": null,
      "outputs": []
    },
    {
      "metadata": {
        "trusted": true,
        "_uuid": "7b5e220ab1723e66312aa3b4e738f2359b5229cb"
      },
      "cell_type": "code",
      "source": "questions_dist['year'] = questions_dist['questions_date_added'].dt.year",
      "execution_count": null,
      "outputs": []
    },
    {
      "metadata": {
        "trusted": true,
        "_uuid": "8896e9a66ed06963af3eb17e45f4df66d502eafe"
      },
      "cell_type": "code",
      "source": "questions_dist['month'] = questions_dist['questions_date_added'].dt.month",
      "execution_count": null,
      "outputs": []
    },
    {
      "metadata": {
        "trusted": true,
        "_uuid": "1fde52ff4cac54eeb5b221f1552d9cae553d1002"
      },
      "cell_type": "code",
      "source": "questions_dist.head()",
      "execution_count": null,
      "outputs": []
    },
    {
      "metadata": {
        "trusted": true,
        "_uuid": "cd652818acf87ef69ea14c8ff24b0b1b20b30b15"
      },
      "cell_type": "code",
      "source": "questions_dist_ym = questions_dist[['questions_id','year','month']].groupby(by=['year','month']).count()",
      "execution_count": null,
      "outputs": []
    },
    {
      "metadata": {
        "trusted": true,
        "_uuid": "def90423fa18b8302c18c308e0d6667246081b0b"
      },
      "cell_type": "code",
      "source": "questions_dist_ym.plot(kind='bar',figsize=(15,10),color='b')\nplt.title('Questions timeline')\nplt.xlabel('month-year')\nplt.show()",
      "execution_count": null,
      "outputs": []
    },
    {
      "metadata": {
        "trusted": true,
        "_uuid": "b847c662225933b6e3d5c433b2b93f5cbe5f170e"
      },
      "cell_type": "code",
      "source": "professionals.dtypes",
      "execution_count": null,
      "outputs": []
    },
    {
      "metadata": {
        "trusted": true,
        "_uuid": "752f363653c3741d71bf576b4066ed5ef2752c92"
      },
      "cell_type": "code",
      "source": "#time distribution of the professionals \ndf_professionals = professionals.copy()",
      "execution_count": null,
      "outputs": []
    },
    {
      "metadata": {
        "trusted": true,
        "_uuid": "1c017fe779e9eb002b8341ab5de1fa07313e01ec"
      },
      "cell_type": "code",
      "source": "df_professionals['year']= df_professionals['professionals_date_joined'].dt.year",
      "execution_count": null,
      "outputs": []
    },
    {
      "metadata": {
        "trusted": true,
        "_uuid": "57ac7a591acb2f16d3baee6d533cbf2bb51ce9fa"
      },
      "cell_type": "code",
      "source": "df_professionals['month'] = df_professionals['professionals_date_joined'].dt.month",
      "execution_count": null,
      "outputs": []
    },
    {
      "metadata": {
        "trusted": true,
        "_uuid": "41e247365bf742561eac6dbf5f5b6f354adad103"
      },
      "cell_type": "code",
      "source": "df_professionals[['professionals_id','year']].groupby(by=['year']).count().plot(kind='bar',color='b',figsize=(10,8))\nplt.title('Professionals Joined')\nplt.show()",
      "execution_count": null,
      "outputs": []
    },
    {
      "metadata": {
        "trusted": true,
        "_uuid": "ff73e3dfa307e1d94aa21080f155e2351b14686e"
      },
      "cell_type": "code",
      "source": "df_professionals[['professionals_id','month']].groupby(by='month').count().plot(kind='bar',figsize=(10,8),color='b')\nplt.title('Profesionals joined by month')\nplt.xlabel('Month')\nplt.show()",
      "execution_count": null,
      "outputs": []
    },
    {
      "metadata": {
        "trusted": true,
        "_uuid": "48266100acaa4c73a1a97ff38dd4f79f0a64925f"
      },
      "cell_type": "code",
      "source": "df_professionals[['professionals_id','year','month']].groupby(by=['year','month']).count().plot(kind='bar',color='b',figsize=(15,8))\nplt.title('Professionals joined by Year-Month')\nplt.xlabel('Year-Month')\nplt.show()",
      "execution_count": null,
      "outputs": []
    },
    {
      "metadata": {
        "trusted": true,
        "_uuid": "f8328c1fa845ab1391f822c99e20cadf76cbb928"
      },
      "cell_type": "code",
      "source": "df_prof = professionals.copy()",
      "execution_count": null,
      "outputs": []
    },
    {
      "metadata": {
        "trusted": true,
        "_uuid": "2f2a3a2429046c22bc6cc0860e4e1886cc25f93e"
      },
      "cell_type": "code",
      "source": "df_prof.set_index(keys=df_prof.professionals_date_joined,inplace=True)",
      "execution_count": null,
      "outputs": []
    },
    {
      "metadata": {
        "trusted": true,
        "_uuid": "c71cff88be6c35d71b880c85d53aa61fba111190"
      },
      "cell_type": "code",
      "source": "df_prof['Year'] = df_prof.index.year",
      "execution_count": null,
      "outputs": []
    },
    {
      "metadata": {
        "trusted": true,
        "_uuid": "2540db16d3856feebfcf452bcbb350697b542bd0"
      },
      "cell_type": "code",
      "source": "df_prof['Month'] = df_prof.index.month",
      "execution_count": null,
      "outputs": []
    },
    {
      "metadata": {
        "trusted": true,
        "_uuid": "59ae16b8fa511f1e878036e58aa7cc951d4c36b6"
      },
      "cell_type": "code",
      "source": "df_prof['year_month'] = df_prof.index.to_period('M').astype('str')",
      "execution_count": null,
      "outputs": []
    },
    {
      "metadata": {
        "trusted": true,
        "_uuid": "737dfece17a934e472c560c103aa0e9b2539363c"
      },
      "cell_type": "code",
      "source": "df_prof.head()",
      "execution_count": null,
      "outputs": []
    },
    {
      "metadata": {
        "trusted": true,
        "_uuid": "78dc23a7496e446dbc828b449ed9dacb9f8a2dec"
      },
      "cell_type": "code",
      "source": "os.listdir('../input')",
      "execution_count": null,
      "outputs": []
    },
    {
      "metadata": {
        "trusted": true,
        "_uuid": "435b168aca695465e7b97b8b87304e1c8ab677c4"
      },
      "cell_type": "code",
      "source": "emails = pd.read_csv('../input/emails.csv',sep=',')",
      "execution_count": null,
      "outputs": []
    },
    {
      "metadata": {
        "trusted": true,
        "_uuid": "c6386ad617dce94010fd968f957b01a33cfaa6a5"
      },
      "cell_type": "code",
      "source": "emails.emails_frequency_level.value_counts().sort_values(ascending=True)",
      "execution_count": null,
      "outputs": []
    },
    {
      "metadata": {
        "trusted": true,
        "_uuid": "a8de439974795b6f573060a5ccdb2109cf822c71"
      },
      "cell_type": "code",
      "source": "emails.info()",
      "execution_count": null,
      "outputs": []
    },
    {
      "metadata": {
        "trusted": true,
        "_uuid": "f2a8710ce60a3436d1080065658a02c30dfaaa00"
      },
      "cell_type": "code",
      "source": "emails.shape",
      "execution_count": null,
      "outputs": []
    },
    {
      "metadata": {
        "trusted": true,
        "_uuid": "d060144e51ae416dd80597a85f777236f31e136e"
      },
      "cell_type": "code",
      "source": "len(emails.emails_id.value_counts())",
      "execution_count": null,
      "outputs": []
    },
    {
      "metadata": {
        "trusted": true,
        "_uuid": "493eee782ac444346ad46dcd9aa7a082903cb7ff"
      },
      "cell_type": "code",
      "source": "emails[emails['emails_recipient_id'] == '00009a0f9bda43eba47104e9ac62aff5'].sort_values(by='emails_date_sent')",
      "execution_count": null,
      "outputs": []
    },
    {
      "metadata": {
        "trusted": true,
        "_uuid": "1e00add09732a1d911d9bffe9563d03cdc1acfbd"
      },
      "cell_type": "code",
      "source": "matches = pd.read_csv('../input/matches.csv')",
      "execution_count": null,
      "outputs": []
    },
    {
      "metadata": {
        "trusted": true,
        "_uuid": "2cb91983f8c16107fbe736ad0c5ccbcdc0faf183"
      },
      "cell_type": "code",
      "source": "matches.info()",
      "execution_count": null,
      "outputs": []
    },
    {
      "metadata": {
        "trusted": true,
        "_uuid": "238e72ebe6174187e8c6412360321463b4f1ea48"
      },
      "cell_type": "code",
      "source": "emails.head()",
      "execution_count": null,
      "outputs": []
    },
    {
      "metadata": {
        "trusted": true,
        "_uuid": "205e5a8a74b52bb9b27a30ce3172af67fc619e33"
      },
      "cell_type": "code",
      "source": "fig, ax = plt.subplots(1,1,figsize=(10,10))\n\nsns.countplot(x='emails_frequency_level',data=emails,ax=ax)\nax.set_xticklabels(ax.get_xticklabels(),rotation=45,horizontalalignment='right')\nax.set_xlabel('Email notification Frequency')\nax.set_title('Subscribers count by frequency')\nax.axhline(0, color=\"k\", clip_on=False)",
      "execution_count": null,
      "outputs": []
    },
    {
      "metadata": {
        "trusted": true,
        "_uuid": "6af8dcbf1e2f1b3ea84daf8df399df5f022e0480"
      },
      "cell_type": "code",
      "source": "#number of questions per email",
      "execution_count": null,
      "outputs": []
    },
    {
      "metadata": {
        "trusted": true,
        "_uuid": "442bd49a5a3ad87de4acf0a99ab6ef1a040ef512"
      },
      "cell_type": "code",
      "source": "matches.groupby(by='matches_email_id').count()",
      "execution_count": null,
      "outputs": []
    },
    {
      "metadata": {
        "trusted": true,
        "_uuid": "773b3fa4bc186512b6904f573820c4e8767f28ba"
      },
      "cell_type": "code",
      "source": "questions_by_year = questions_dist.groupby(by='year').count()['questions_id']",
      "execution_count": null,
      "outputs": []
    },
    {
      "metadata": {
        "trusted": true,
        "_uuid": "5f6a188880021fc2639ed8ce1c41e9555ceb6abe"
      },
      "cell_type": "code",
      "source": "questions_by_year.head()",
      "execution_count": null,
      "outputs": []
    },
    {
      "metadata": {
        "trusted": true,
        "_uuid": "414d40e4fc6c9686cec73758952e648262fdfbad"
      },
      "cell_type": "code",
      "source": "answers_dist = answers.copy()",
      "execution_count": null,
      "outputs": []
    },
    {
      "metadata": {
        "trusted": true,
        "_uuid": "e9ce9f79b98408883a69c9abac04150b3d3d3abc"
      },
      "cell_type": "code",
      "source": "answers_dist['year'] = answers_dist['answers_date_added'].dt.year",
      "execution_count": null,
      "outputs": []
    },
    {
      "metadata": {
        "trusted": true,
        "_uuid": "7df4bb2d46533109f27e1506e7abb8c14b6f3f28"
      },
      "cell_type": "code",
      "source": "answers_dist.head()",
      "execution_count": null,
      "outputs": []
    },
    {
      "metadata": {
        "trusted": true,
        "_uuid": "66709a377fab664d68ffa2690e20891ce4c997ca"
      },
      "cell_type": "code",
      "source": "answers_by_year = answers_dist.groupby(by='year').count()['answers_id']",
      "execution_count": null,
      "outputs": []
    },
    {
      "metadata": {
        "trusted": true,
        "_uuid": "a910db94388c09bd60eb91e32a15d05fb0f63fe7"
      },
      "cell_type": "code",
      "source": "answers_by_year",
      "execution_count": null,
      "outputs": []
    },
    {
      "metadata": {
        "trusted": true,
        "_uuid": "71db31f57ecbad5e8812b42fe594efd73bbcf1e6"
      },
      "cell_type": "code",
      "source": "fig,ax = plt.subplots(1,1,figsize=(16,6))\nax1 = sns.lineplot(x=questions_by_year.index,y=questions_by_year.values,color='orange')\nax2 = sns.lineplot(x=answers_by_year.index,y=answers_by_year.values,color='blue',)\nax1.set(xlabel = 'Year',ylabel='# of questions/answers')\nplt.legend(['Questions asked','Questions answered'], loc=0)\nplt.show()",
      "execution_count": null,
      "outputs": []
    },
    {
      "metadata": {
        "trusted": true,
        "_uuid": "1214ed12a957648c582a1b7e5124c0b7d04f0c78"
      },
      "cell_type": "code",
      "source": "plt.figure(figsize=(16,6))\nplt.plot(questions_by_year.values,color='orange')\nplt.plot(answers_by_year.values,color='blue')\nplt.legend(['Questions asked','Questions Answered'])\nplt.xticks(range(len(questions_by_year.index.values)),questions_by_year.index.values)\nplt.show()",
      "execution_count": null,
      "outputs": []
    },
    {
      "metadata": {
        "trusted": true,
        "_uuid": "c5bb5da016cd9b419708511be6426385661f3fe7"
      },
      "cell_type": "code",
      "source": "questions_by_year.index",
      "execution_count": null,
      "outputs": []
    },
    {
      "metadata": {
        "trusted": true,
        "_uuid": "ba6098a525d77c9d0f1b3d359ded1603613b380d"
      },
      "cell_type": "code",
      "source": "range(4,8)",
      "execution_count": null,
      "outputs": []
    },
    {
      "metadata": {
        "trusted": true,
        "_uuid": "2714736d2cc98a1676ab841e89446e9333a9c818"
      },
      "cell_type": "code",
      "source": "for i in range(3,11,2):\n    print(i)\nprint('*'*7,'o','*'*7)    \nfor i in range(4,8):\n    print(i)\nprint('*'*7,'o','*'*7)    \nfor i in range(0,3):\n    print(i)",
      "execution_count": null,
      "outputs": []
    },
    {
      "metadata": {
        "trusted": true,
        "_uuid": "1d428f1f41b0391e71ff90f8d32d4cfd57f7fa90"
      },
      "cell_type": "code",
      "source": "#time taken to answer the questions \nquestions.head() ",
      "execution_count": null,
      "outputs": []
    },
    {
      "metadata": {
        "trusted": true,
        "_uuid": "0672c1ae1b54c2d1af834d1aae320e9a4b9fdbbb"
      },
      "cell_type": "code",
      "source": "answers.head()",
      "execution_count": null,
      "outputs": []
    },
    {
      "metadata": {
        "trusted": true,
        "_uuid": "18218cea026e07ef95500405f812f7355c779155"
      },
      "cell_type": "code",
      "source": "questions_answers = questions.merge(right=answers,how='inner',left_on='questions_id'\n                                    ,right_on='answers_question_id')",
      "execution_count": null,
      "outputs": []
    },
    {
      "metadata": {
        "trusted": true,
        "_uuid": "04a19984a02c186e2f31473a8af42ee3a82d077a"
      },
      "cell_type": "code",
      "source": "questions_answers['time']= questions_answers['questions_date_added'] - questions_answers['answers_date_added']",
      "execution_count": null,
      "outputs": []
    },
    {
      "metadata": {
        "trusted": true,
        "_uuid": "a1f03bf1e7a0db1dacc29145284e898ca3add338"
      },
      "cell_type": "code",
      "source": "questions_answers['time']= questions_answers['time'].map(lambda x: x * -1)",
      "execution_count": null,
      "outputs": []
    },
    {
      "metadata": {
        "trusted": true,
        "_uuid": "cd7c9c3504a90b8ea11a08d2d33e8095818f8438"
      },
      "cell_type": "code",
      "source": "",
      "execution_count": null,
      "outputs": []
    },
    {
      "metadata": {
        "trusted": true,
        "_uuid": "2254b7fae53736ec37522f6e6255e4f171c08099"
      },
      "cell_type": "code",
      "source": "questions_answers['time'] = questions_answers['answers_date_added'] - questions_answers['questions_date_added']",
      "execution_count": null,
      "outputs": []
    },
    {
      "metadata": {
        "trusted": true,
        "_uuid": "8b61e661fe498806cf3b0cce435e5d235205fa4a"
      },
      "cell_type": "code",
      "source": "questions_answers['time'].head()",
      "execution_count": null,
      "outputs": []
    },
    {
      "metadata": {
        "trusted": true,
        "_uuid": "953314a49df44f86cedead5d9f4e9c409759f765"
      },
      "cell_type": "code",
      "source": "questions_answers['time_in_days'] = questions_answers['time'].dt.days",
      "execution_count": null,
      "outputs": []
    },
    {
      "metadata": {
        "trusted": true,
        "_uuid": "dd51d77a5c96227aa060bca6148d8efadcee8687"
      },
      "cell_type": "code",
      "source": "questions_answers.shape",
      "execution_count": null,
      "outputs": []
    },
    {
      "metadata": {
        "trusted": true,
        "_uuid": "a3bb33fbd9a57410248713ed72a93ef8ba0f8db0"
      },
      "cell_type": "code",
      "source": "#create a histogram \nplt.figure(figsize=(16,10))\nplt.hist(x=questions_answers['time_in_days'].values,bins=100,histtype='bar')\nplt.xlabel('Days')\nplt.ylabel('# of questions')\nplt.title('Time taken to answer (in days)')\nplt.show()",
      "execution_count": null,
      "outputs": []
    },
    {
      "metadata": {
        "trusted": true,
        "_uuid": "655250a2959e863387ff22c4648cae95974c882f"
      },
      "cell_type": "code",
      "source": "questions_answers.info()",
      "execution_count": null,
      "outputs": []
    },
    {
      "metadata": {
        "trusted": true,
        "_uuid": "b5ce8a54e965584728a1ced2741e477b5930587c"
      },
      "cell_type": "code",
      "source": "questions_answers['questions_title_length'] = questions_answers['questions_title'].map(len)",
      "execution_count": null,
      "outputs": []
    },
    {
      "metadata": {
        "trusted": true,
        "_uuid": "aa6bd83dc94bef523fb5fb6b4f791c47084824a2"
      },
      "cell_type": "code",
      "source": "questions_answers[pd.isnull(questions_answers['answers_body'])]",
      "execution_count": null,
      "outputs": []
    },
    {
      "metadata": {
        "trusted": true,
        "_uuid": "5ca5e28740381c856d066d087e0ea9b2cbe85f88"
      },
      "cell_type": "code",
      "source": "questions_answers['answers_body'].fillna('0',inplace = True)",
      "execution_count": null,
      "outputs": []
    },
    {
      "metadata": {
        "trusted": true,
        "_uuid": "7318cce59ab708a638124bbb21358f9fd3e380ad"
      },
      "cell_type": "code",
      "source": "questions_answers['answers_body_length'] = questions_answers['answers_body'].apply(len)",
      "execution_count": null,
      "outputs": []
    },
    {
      "metadata": {
        "trusted": true,
        "_uuid": "5b27644b706cfaf2ff228991f023370d64e448a4"
      },
      "cell_type": "code",
      "source": "questions_answers[['questions_title_length','answers_body_length']].head()",
      "execution_count": null,
      "outputs": []
    },
    {
      "metadata": {
        "trusted": true,
        "_uuid": "8b6dfcc67b91ac74be0b5743d2c0ad5b8cd3c098"
      },
      "cell_type": "code",
      "source": "plt.figure(figsize=(16,10))\nplt.hist(x=questions_answers['questions_title_length'],bins=100,color='blue')\nplt.xlabel('Title length')\nplt.ylabel('# of questions')\nplt.title('Distribution of the questions length')\nplt.show()",
      "execution_count": null,
      "outputs": []
    },
    {
      "metadata": {
        "trusted": true,
        "_uuid": "688f4287fe67985365463080c2079345c5b19539"
      },
      "cell_type": "code",
      "source": "questions_answers['questions_body_length'] = questions_answers['questions_body'].apply(len)",
      "execution_count": null,
      "outputs": []
    },
    {
      "metadata": {
        "trusted": true,
        "scrolled": true,
        "_uuid": "8d06e69eb4ae9a2e3225669a9ad4d48d37f43735"
      },
      "cell_type": "code",
      "source": "questions_answers['questions_body_length'].head()",
      "execution_count": null,
      "outputs": []
    },
    {
      "metadata": {
        "trusted": true,
        "_uuid": "114e732002bcebdd373770a1ffc0bf653f81a3b7"
      },
      "cell_type": "code",
      "source": "plt.figure(figsize=(12,8))\nplt.hist(x=questions_answers[questions_answers['questions_body_length']<1000]['questions_body_length'], bins=50, color='blue')\nplt.title('Distribution of body length for questions ')\nplt.xlabel('Questions Body Length')\nplt.ylabel('# of questions')\nplt.show()",
      "execution_count": null,
      "outputs": []
    },
    {
      "metadata": {
        "trusted": true,
        "_uuid": "b1d0ebaba32644d6c743b23007777d637f1d8594"
      },
      "cell_type": "code",
      "source": "questions_answers.info()",
      "execution_count": null,
      "outputs": []
    },
    {
      "metadata": {
        "trusted": true,
        "_uuid": "99bd9bc2e2f6158c4eefeab3e9075cc6efbe61e0"
      },
      "cell_type": "code",
      "source": "#questions_answers['answers_body_length'] = questions_answers['answers_body'].map(len)\n# there is NaN in the answers_body \nquestions_answers[pd.isnull(questions_answers.answers_body) ]",
      "execution_count": null,
      "outputs": []
    },
    {
      "metadata": {
        "trusted": true,
        "_uuid": "1cc936feb3e5188410ae76fe483b66b472365fcb"
      },
      "cell_type": "code",
      "source": "# fillna with 0 \nquestions_answers['answers_body'].fillna(0,inplace=True)",
      "execution_count": null,
      "outputs": []
    },
    {
      "metadata": {
        "trusted": true,
        "_uuid": "225474b36749bc362bfd07526ff67ec2061efd80"
      },
      "cell_type": "code",
      "source": "questions_answers[questions_answers.answers_body == 0]['answers_body'] ",
      "execution_count": null,
      "outputs": []
    },
    {
      "metadata": {
        "trusted": true,
        "_uuid": "6c57e789633f26d510912610a9f7b54b3f0646b2"
      },
      "cell_type": "code",
      "source": "questions_answers.loc[48625,['answers_body']] = 'missing'",
      "execution_count": null,
      "outputs": []
    },
    {
      "metadata": {
        "trusted": true,
        "_uuid": "e0efc87fffd6653d87b995e53acfb505f2572bf5"
      },
      "cell_type": "code",
      "source": "questions_answers['answers_body_length'] = questions_answers['answers_body'].map(len)",
      "execution_count": null,
      "outputs": []
    },
    {
      "metadata": {
        "trusted": true,
        "_uuid": "30625566d7b584ed4cd8ca4335433a7f8988daec"
      },
      "cell_type": "code",
      "source": "questions_answers['answers_body_length'].head()",
      "execution_count": null,
      "outputs": []
    },
    {
      "metadata": {
        "trusted": true,
        "_uuid": "45af81d21f150ab28c9c9ffbbb364df05f71b2e1"
      },
      "cell_type": "code",
      "source": "fig, ax = plt.subplots(1,1,figsize=(12,8))\nax = sns.distplot(a=questions_answers[questions_answers['answers_body_length']<1000]['answers_body_length'],bins=50,kde=False,color='blue')\nax.set(xlabel = '# of answers',ylabel='Answers body length')\nplt.title('Distribution of answers body')\nplt.show()",
      "execution_count": null,
      "outputs": []
    },
    {
      "metadata": {
        "trusted": true,
        "_uuid": "d42903930adb6bad259ba84818c9c93ab2299f0a"
      },
      "cell_type": "code",
      "source": "questions_answers.info()",
      "execution_count": null,
      "outputs": []
    },
    {
      "metadata": {
        "trusted": true,
        "_uuid": "976be56c4131afd0529af7b5a036fe886cf45372"
      },
      "cell_type": "code",
      "source": "questions_answers[['questions_title_length','questions_body_length','time_in_days']].head()",
      "execution_count": null,
      "outputs": []
    },
    {
      "metadata": {
        "trusted": true,
        "_uuid": "83d114ff82773e1843645ce9c26ab81bd8f9bfdd"
      },
      "cell_type": "code",
      "source": "questions_answers[['questions_title_length','questions_body_length','time_in_days']].corr()",
      "execution_count": null,
      "outputs": []
    },
    {
      "metadata": {
        "trusted": true,
        "_uuid": "fd9b536dde4aa449fedfdd5f6336f3af2705ba6f"
      },
      "cell_type": "code",
      "source": "# scatter plot of questions_body_length versus time to answer \n#fig, ax = plt.subplots(1,1,figsize=(12,8))\nsns.jointplot(x='questions_body_length'\n                   ,y='time_in_days'\n                   ,data=questions_answers\n                   ,kind='scatter'\n              )\nplt.title('Scatter plot of body length versus time in days')\n#plt.xlabel('Questions body length')\n#plt.ylabel('Time in days')\nplt.show()",
      "execution_count": null,
      "outputs": []
    },
    {
      "metadata": {
        "trusted": true,
        "_uuid": "384e02fb92835ea3ace2a54e21a4e64fb10342d3"
      },
      "cell_type": "code",
      "source": "plt.figure(figsize=(12,6))\nplt.scatter(x='questions_body_length'\n            ,y='time_in_days'\n            ,data=questions_answers\n            ,alpha = 0.5\n           )\nplt.title('Scatter plot of questions body length vs time taken')\nplt.xlabel('Questions body length')\nplt.ylabel('Time taken in days')\nplt.show()",
      "execution_count": null,
      "outputs": []
    },
    {
      "metadata": {
        "trusted": true,
        "_uuid": "9a6993cb40eb4d1a524bdc05e93023ff9513081e"
      },
      "cell_type": "code",
      "source": "answers.shape",
      "execution_count": null,
      "outputs": []
    },
    {
      "metadata": {
        "trusted": true,
        "_uuid": "b99748215b5c10272fb061b5464a87c2652f37e4"
      },
      "cell_type": "code",
      "source": "questions.shape",
      "execution_count": null,
      "outputs": []
    },
    {
      "metadata": {
        "trusted": true,
        "_uuid": "1a27a27020ddcf84a7ee1cca239e68661c624e27"
      },
      "cell_type": "code",
      "source": "questions_answers.shape",
      "execution_count": null,
      "outputs": []
    },
    {
      "metadata": {
        "trusted": true,
        "_uuid": "ccd703001f3d647f1e45b9d1ecee5796b476402e"
      },
      "cell_type": "code",
      "source": "questions_answers.questions_id.nunique()",
      "execution_count": null,
      "outputs": []
    },
    {
      "metadata": {
        "trusted": true,
        "_uuid": "605746d80d7f5eab44adc1bc06c3a34bbef48956"
      },
      "cell_type": "code",
      "source": "#distribution of length for answer bodies \nquestions_answers.info()",
      "execution_count": null,
      "outputs": []
    },
    {
      "metadata": {
        "trusted": true,
        "_uuid": "cb2782290995b57219c9ca2e82dfaa3292bc5aa8"
      },
      "cell_type": "code",
      "source": "plt.figure(figsize=(12,8))\nplt.hist(questions_answers['answers_body_length'].values\n        ,histtype='bar'\n        ,bins=100\n        ,color='blue'\n        )\nplt.title('Distribution of answers body length')\nplt.xlabel('Answers body length')\nplt.ylabel('Frequency')\nplt.show()",
      "execution_count": null,
      "outputs": []
    },
    {
      "metadata": {
        "trusted": true,
        "_uuid": "73633d5853168cf1a5fa2b5849a1c6a049ed3c98"
      },
      "cell_type": "code",
      "source": "#number of answers for question \nnumber_answers_for_question = answers['answers_question_id'].value_counts(ascending=True).values\nplt.figure(figsize=(12,8))\nplt.hist(x=number_answers_for_question\n         ,histtype='bar'\n         ,color='blue'\n         ,bins = 60\n        )\nplt.xlabel('Number of answers for a question')\nplt.ylabel('Frquency')\nplt.title('Histogram for number of answers')\nplt.show()",
      "execution_count": null,
      "outputs": []
    },
    {
      "metadata": {
        "trusted": true,
        "_uuid": "086effb26f4a20992f1b6723eacfe306938d936c"
      },
      "cell_type": "code",
      "source": "os.listdir('../input')",
      "execution_count": null,
      "outputs": []
    },
    {
      "metadata": {
        "trusted": true,
        "_uuid": "5cb9ec61dd92086b3b99f8cc2a9d641c2257a8c3"
      },
      "cell_type": "code",
      "source": "comments = pd.read_csv('../input/comments.csv')",
      "execution_count": 6,
      "outputs": []
    },
    {
      "metadata": {
        "trusted": true,
        "_uuid": "5d0e7cfae2e5a4735fa7fe365105ac1e342ccf02"
      },
      "cell_type": "code",
      "source": "comments.info()",
      "execution_count": 7,
      "outputs": [
        {
          "output_type": "stream",
          "text": "<class 'pandas.core.frame.DataFrame'>\nRangeIndex: 14966 entries, 0 to 14965\nData columns (total 5 columns):\ncomments_id                   14966 non-null object\ncomments_author_id            14966 non-null object\ncomments_parent_content_id    14966 non-null object\ncomments_date_added           14966 non-null object\ncomments_body                 14962 non-null object\ndtypes: object(5)\nmemory usage: 584.7+ KB\n",
          "name": "stdout"
        }
      ]
    },
    {
      "metadata": {
        "trusted": true,
        "_uuid": "614a33e1b383bdec2faf244afe60e8df2043053f"
      },
      "cell_type": "code",
      "source": "comments['comments_date_added'] = pd.to_datetime(comments['comments_date_added'])",
      "execution_count": 8,
      "outputs": []
    },
    {
      "metadata": {
        "trusted": true,
        "_uuid": "320c527bfedd2d020f51a27198e1f3a6a3c70091"
      },
      "cell_type": "code",
      "source": "comments.shape",
      "execution_count": 9,
      "outputs": [
        {
          "output_type": "execute_result",
          "execution_count": 9,
          "data": {
            "text/plain": "(14966, 5)"
          },
          "metadata": {}
        }
      ]
    },
    {
      "metadata": {
        "trusted": true,
        "_uuid": "6e9884830f7e823929d8f0bcc1ae74a01dc9819a"
      },
      "cell_type": "code",
      "source": "%%time\ncomments_questions = comments.merge(right=questions\n                                    ,left_on='comments_parent_content_id'\n                                    ,right_on = 'questions_id'\n                                    ,how='inner'\n                                   )",
      "execution_count": 10,
      "outputs": [
        {
          "output_type": "stream",
          "text": "CPU times: user 20 ms, sys: 0 ns, total: 20 ms\nWall time: 19.4 ms\n",
          "name": "stdout"
        }
      ]
    },
    {
      "metadata": {
        "trusted": true,
        "_uuid": "723bf322f4e76ae1e166150a20e61d5ac6bf13dd"
      },
      "cell_type": "code",
      "source": "comments_questions.shape",
      "execution_count": null,
      "outputs": []
    },
    {
      "metadata": {
        "trusted": true,
        "_uuid": "e681ad91added0385a094802bf6b7f6bcfb64f6c"
      },
      "cell_type": "code",
      "source": "%%time\ncomments_questions['questions_id'].nunique()",
      "execution_count": null,
      "outputs": []
    },
    {
      "metadata": {
        "trusted": true,
        "_uuid": "cb242b4b2f3e162052129128cac08ebf675feba9"
      },
      "cell_type": "code",
      "source": "questions.shape",
      "execution_count": null,
      "outputs": []
    },
    {
      "metadata": {
        "trusted": true,
        "_uuid": "e1fbc1fc7e7cdf83cafb4886d7febed7955944e4"
      },
      "cell_type": "code",
      "source": "comments_answers = comments.merge(right=answers\n                                  ,left_on='comments_parent_content_id'\n                                  ,right_on='answers_id'\n                                  ,how='inner'\n                                 )",
      "execution_count": null,
      "outputs": []
    },
    {
      "metadata": {
        "trusted": true,
        "_uuid": "8e09b31cb25f53863e8d69034877bfaa167c52a5"
      },
      "cell_type": "code",
      "source": "comments_answers.shape",
      "execution_count": null,
      "outputs": []
    },
    {
      "metadata": {
        "trusted": true,
        "_uuid": "e635b4bdb4555b7328fedfdbc812fd4667f3bd70"
      },
      "cell_type": "code",
      "source": "12578 +  1875",
      "execution_count": null,
      "outputs": []
    },
    {
      "metadata": {
        "trusted": true,
        "_uuid": "98c603d1b3e1132f1c8e247671486656506f2fba"
      },
      "cell_type": "code",
      "source": "print('Total number of comments: {}'.format(comments.shape[0]))\nprint('Number of unique authors for comments: {} '.format(len(np.unique(comments['comments_author_id']))))",
      "execution_count": null,
      "outputs": []
    },
    {
      "metadata": {
        "trusted": true,
        "_uuid": "88f393c771af0a6c51587bb19a5f8805dd3e2a49"
      },
      "cell_type": "code",
      "source": "len(np.unique(comments['comments_author_id']))",
      "execution_count": null,
      "outputs": []
    },
    {
      "metadata": {
        "trusted": true,
        "_uuid": "c194813a2844b0bdcf36046e49e94fb35ba1bba3"
      },
      "cell_type": "code",
      "source": "comments['is_author_prof'] = comments['comments_author_id'].isin(list(professionals['professionals_id']))",
      "execution_count": 11,
      "outputs": []
    },
    {
      "metadata": {
        "trusted": true,
        "_uuid": "5601cb03ee9186ef326853568bd163e2bf5ca0c0"
      },
      "cell_type": "code",
      "source": "comments['is_author_student'] = comments['comments_author_id'].isin(list(students['students_id']))",
      "execution_count": 12,
      "outputs": []
    },
    {
      "metadata": {
        "trusted": true,
        "_uuid": "a6f7d484bd2316cc37bdb7cc993977a517f7ecef"
      },
      "cell_type": "code",
      "source": "comments.head()",
      "execution_count": null,
      "outputs": []
    },
    {
      "metadata": {
        "trusted": true,
        "_uuid": "c82d5bcb84b935064536a8e1d4660b5422f04ed0"
      },
      "cell_type": "code",
      "source": "comments['is_other_user'] = np.logical_not(np.logical_or(comments['is_author_prof'],comments['is_author_student']))",
      "execution_count": 14,
      "outputs": []
    },
    {
      "metadata": {
        "trusted": true,
        "_uuid": "63db90b95ff67102ba5f2865e0b7d256a45b68ea"
      },
      "cell_type": "code",
      "source": "comments[comments['is_other_user'] == True].head()",
      "execution_count": null,
      "outputs": []
    },
    {
      "metadata": {
        "trusted": true,
        "_uuid": "e6134e58aa8f0195162a9b0d5282cbf2646a8d2a"
      },
      "cell_type": "code",
      "source": "professionals[professionals['professionals_id'] == 'd02f6d9faac24997a7003a59e5f34bd3']",
      "execution_count": null,
      "outputs": []
    },
    {
      "metadata": {
        "trusted": true,
        "_uuid": "3d706950955309e6fe82baa8860bef2a7e733534"
      },
      "cell_type": "code",
      "source": "students[students['students_id']== 'd02f6d9faac24997a7003a59e5f34bd3']",
      "execution_count": null,
      "outputs": []
    },
    {
      "metadata": {
        "trusted": true,
        "_uuid": "fe6bed7d911a5a9c8f297796d80cca3535252113"
      },
      "cell_type": "code",
      "source": "comments.head()",
      "execution_count": null,
      "outputs": []
    },
    {
      "metadata": {
        "trusted": true,
        "_uuid": "4945d0c91ab712d2c53cd88ca56f7e6aae73b3d7"
      },
      "cell_type": "code",
      "source": "print('Number of comments made by professionals: {}'.format(comments['is_author_prof'].sum()))\nprint('NUmber of comments made by students: {}'.format(comments['is_author_student'].sum()))\nprint('Number of comments made by other users: {}'.format(comments['is_other_user'].sum()))",
      "execution_count": null,
      "outputs": []
    },
    {
      "metadata": {
        "trusted": true,
        "_uuid": "007906f1977314b01ecabee663c4afc8b449da12"
      },
      "cell_type": "code",
      "source": "%%time\ncomments['is_comment_on_question'] = comments['comments_parent_content_id'].isin(list(questions['questions_id']))",
      "execution_count": 15,
      "outputs": [
        {
          "output_type": "stream",
          "text": "CPU times: user 8 ms, sys: 0 ns, total: 8 ms\nWall time: 7.56 ms\n",
          "name": "stdout"
        }
      ]
    },
    {
      "metadata": {
        "trusted": true,
        "_uuid": "70c0068b315007eed12db29e2f1bd96974a9fde7"
      },
      "cell_type": "code",
      "source": "comments.head()",
      "execution_count": null,
      "outputs": []
    },
    {
      "metadata": {
        "trusted": true,
        "_uuid": "d83361a91cce06578e6c8cad010a52f395104c71"
      },
      "cell_type": "code",
      "source": "comments['is_comment_on_answer'] = comments['comments_parent_content_id'].isin(list(answers['answers_id']))",
      "execution_count": 16,
      "outputs": []
    },
    {
      "metadata": {
        "trusted": true,
        "_uuid": "388557568a831451cc5e98beb5210dd033f3594b"
      },
      "cell_type": "code",
      "source": "comments.head()",
      "execution_count": null,
      "outputs": []
    },
    {
      "metadata": {
        "trusted": true,
        "_uuid": "5074696454aaadb45ec893264fd3b441adcbd2f4"
      },
      "cell_type": "code",
      "source": "print('Number of comments on questions: {}'.format(comments['is_comment_on_question'].sum()))\nprint('Number of comments on answers: {}'.format(comments['is_comment_on_answer'].sum()))",
      "execution_count": 17,
      "outputs": [
        {
          "output_type": "stream",
          "text": "Number of comments on questions: 2388\nNumber of comments on answers: 12578\n",
          "name": "stdout"
        }
      ]
    },
    {
      "metadata": {
        "trusted": true,
        "_uuid": "6778e0f9ef578b32e8b9388de73f82e32b1d7317"
      },
      "cell_type": "code",
      "source": "sample_comment = comments.loc[0,['comments_body']][0]",
      "execution_count": 18,
      "outputs": []
    },
    {
      "metadata": {
        "trusted": true,
        "_uuid": "492940531a05c96dd8ef071872d0f90ef6cda428"
      },
      "cell_type": "code",
      "source": "len(sample_comment.split(' '))",
      "execution_count": 19,
      "outputs": [
        {
          "output_type": "execute_result",
          "execution_count": 19,
          "data": {
            "text/plain": "77"
          },
          "metadata": {}
        }
      ]
    },
    {
      "metadata": {
        "trusted": true,
        "_uuid": "0ebaa3b903e6fb6959297556b7fc3a80f44365c3"
      },
      "cell_type": "code",
      "source": "#comments['comments_body'].map(lambda x: len(x.split(' ')) )\ncomments[pd.isnull(comments['comments_body'])]",
      "execution_count": 20,
      "outputs": [
        {
          "output_type": "execute_result",
          "execution_count": 20,
          "data": {
            "text/plain": "                            comments_id         ...          is_comment_on_answer\n14786  7d4d4e7b9a3b4571b3e4ef0ded437804         ...                          True\n14787  61ed311d818a4176965b6314c6ceda1e         ...                          True\n14788  552f74c144814265ab3325a6905914b4         ...                          True\n14789  b6f55318a5224d4fb083466b5e851a2e         ...                          True\n\n[4 rows x 10 columns]",
            "text/html": "<div>\n<style scoped>\n    .dataframe tbody tr th:only-of-type {\n        vertical-align: middle;\n    }\n\n    .dataframe tbody tr th {\n        vertical-align: top;\n    }\n\n    .dataframe thead th {\n        text-align: right;\n    }\n</style>\n<table border=\"1\" class=\"dataframe\">\n  <thead>\n    <tr style=\"text-align: right;\">\n      <th></th>\n      <th>comments_id</th>\n      <th>comments_author_id</th>\n      <th>comments_parent_content_id</th>\n      <th>comments_date_added</th>\n      <th>comments_body</th>\n      <th>is_author_prof</th>\n      <th>is_author_student</th>\n      <th>is_other_user</th>\n      <th>is_comment_on_question</th>\n      <th>is_comment_on_answer</th>\n    </tr>\n  </thead>\n  <tbody>\n    <tr>\n      <th>14786</th>\n      <td>7d4d4e7b9a3b4571b3e4ef0ded437804</td>\n      <td>cfb0430b2d2d40f5b563cfb493a45195</td>\n      <td>483ed3f53f05429a9c045a42fdd1d60d</td>\n      <td>2013-08-02 04:59:21</td>\n      <td>NaN</td>\n      <td>False</td>\n      <td>True</td>\n      <td>False</td>\n      <td>False</td>\n      <td>True</td>\n    </tr>\n    <tr>\n      <th>14787</th>\n      <td>61ed311d818a4176965b6314c6ceda1e</td>\n      <td>cfb0430b2d2d40f5b563cfb493a45195</td>\n      <td>483ed3f53f05429a9c045a42fdd1d60d</td>\n      <td>2013-08-02 04:59:20</td>\n      <td>NaN</td>\n      <td>False</td>\n      <td>True</td>\n      <td>False</td>\n      <td>False</td>\n      <td>True</td>\n    </tr>\n    <tr>\n      <th>14788</th>\n      <td>552f74c144814265ab3325a6905914b4</td>\n      <td>cfb0430b2d2d40f5b563cfb493a45195</td>\n      <td>483ed3f53f05429a9c045a42fdd1d60d</td>\n      <td>2013-08-02 04:57:21</td>\n      <td>NaN</td>\n      <td>False</td>\n      <td>True</td>\n      <td>False</td>\n      <td>False</td>\n      <td>True</td>\n    </tr>\n    <tr>\n      <th>14789</th>\n      <td>b6f55318a5224d4fb083466b5e851a2e</td>\n      <td>cfb0430b2d2d40f5b563cfb493a45195</td>\n      <td>483ed3f53f05429a9c045a42fdd1d60d</td>\n      <td>2013-08-02 04:55:28</td>\n      <td>NaN</td>\n      <td>False</td>\n      <td>True</td>\n      <td>False</td>\n      <td>False</td>\n      <td>True</td>\n    </tr>\n  </tbody>\n</table>\n</div>"
          },
          "metadata": {}
        }
      ]
    },
    {
      "metadata": {
        "trusted": true,
        "_uuid": "1c6b1b8f1cffd63051a76756abd3705d2d483f9e"
      },
      "cell_type": "code",
      "source": "comments['comments_body'].fillna('missing',inplace=True)",
      "execution_count": 21,
      "outputs": []
    },
    {
      "metadata": {
        "trusted": true,
        "_uuid": "cbb1df19b66371c2993821cb89e993de92a9c662"
      },
      "cell_type": "code",
      "source": "comments['word_count'] = comments['comments_body'].map(lambda x: len(x.split(' ')))",
      "execution_count": 22,
      "outputs": []
    },
    {
      "metadata": {
        "trusted": true,
        "_uuid": "8fd16e5a4f3a6a65e15fe2d125b48ff84b45f0b9"
      },
      "cell_type": "code",
      "source": "comments.head()",
      "execution_count": 23,
      "outputs": [
        {
          "output_type": "execute_result",
          "execution_count": 23,
          "data": {
            "text/plain": "                        comments_id    ...     word_count\n0  f30250d3c2ca489db1afa9b95d481e08    ...             77\n1  ca9bfc4ba9464ea383a8b080301ad72c    ...            103\n2  c354f6e33956499aa8b03798a60e9386    ...            151\n3  73a6223948714c5da6231937157e4cb7    ...             76\n4  55a89a9061d44dd19569c45f90a22779    ...             25\n\n[5 rows x 11 columns]",
            "text/html": "<div>\n<style scoped>\n    .dataframe tbody tr th:only-of-type {\n        vertical-align: middle;\n    }\n\n    .dataframe tbody tr th {\n        vertical-align: top;\n    }\n\n    .dataframe thead th {\n        text-align: right;\n    }\n</style>\n<table border=\"1\" class=\"dataframe\">\n  <thead>\n    <tr style=\"text-align: right;\">\n      <th></th>\n      <th>comments_id</th>\n      <th>comments_author_id</th>\n      <th>comments_parent_content_id</th>\n      <th>comments_date_added</th>\n      <th>comments_body</th>\n      <th>is_author_prof</th>\n      <th>is_author_student</th>\n      <th>is_other_user</th>\n      <th>is_comment_on_question</th>\n      <th>is_comment_on_answer</th>\n      <th>word_count</th>\n    </tr>\n  </thead>\n  <tbody>\n    <tr>\n      <th>0</th>\n      <td>f30250d3c2ca489db1afa9b95d481e08</td>\n      <td>9fc88a7c3323466dbb35798264c7d497</td>\n      <td>b476f9c6d9cd4c50a7bacdd90edd015a</td>\n      <td>2019-01-31 23:39:40</td>\n      <td>First, you speak to recruiters. They are train...</td>\n      <td>True</td>\n      <td>False</td>\n      <td>False</td>\n      <td>False</td>\n      <td>True</td>\n      <td>77</td>\n    </tr>\n    <tr>\n      <th>1</th>\n      <td>ca9bfc4ba9464ea383a8b080301ad72c</td>\n      <td>de2415064b9b445c8717425ed70fd99a</td>\n      <td>ef4b6ae24d1f4c3b977731e8189c7fd7</td>\n      <td>2019-01-31 20:30:47</td>\n      <td>Most large universities offer study abroad pro...</td>\n      <td>True</td>\n      <td>False</td>\n      <td>False</td>\n      <td>False</td>\n      <td>True</td>\n      <td>103</td>\n    </tr>\n    <tr>\n      <th>2</th>\n      <td>c354f6e33956499aa8b03798a60e9386</td>\n      <td>6ed20605002a42b0b8e3d6ac97c50c7f</td>\n      <td>ca7a9d7a95df471c816db82ee758f57d</td>\n      <td>2019-01-31 18:44:04</td>\n      <td>First, I want to put you at ease that the oppo...</td>\n      <td>True</td>\n      <td>False</td>\n      <td>False</td>\n      <td>False</td>\n      <td>True</td>\n      <td>151</td>\n    </tr>\n    <tr>\n      <th>3</th>\n      <td>73a6223948714c5da6231937157e4cb7</td>\n      <td>d02f6d9faac24997a7003a59e5f34bd3</td>\n      <td>c7a88aa76f5f49b0830bfeb46ba17e4d</td>\n      <td>2019-01-31 17:53:28</td>\n      <td>Your question submission was great! I just wan...</td>\n      <td>False</td>\n      <td>False</td>\n      <td>True</td>\n      <td>False</td>\n      <td>True</td>\n      <td>76</td>\n    </tr>\n    <tr>\n      <th>4</th>\n      <td>55a89a9061d44dd19569c45f90a22779</td>\n      <td>e78f75c543e84e1c94da1801d8560f65</td>\n      <td>c7a88aa76f5f49b0830bfeb46ba17e4d</td>\n      <td>2019-01-31 14:51:53</td>\n      <td>Thank you. I'm new to this site. I'm sorry if ...</td>\n      <td>False</td>\n      <td>True</td>\n      <td>False</td>\n      <td>False</td>\n      <td>True</td>\n      <td>25</td>\n    </tr>\n  </tbody>\n</table>\n</div>"
          },
          "metadata": {}
        }
      ]
    },
    {
      "metadata": {
        "trusted": true,
        "_uuid": "18d055095fe7941c2970200b72c0cad6f9cb9b03"
      },
      "cell_type": "code",
      "source": "plt.figure(figsize=(12,8))\nplt.hist(x=comments['word_count']\n         ,bins=100\n         ,color='blue'\n        )\nplt.title('Distribution of comment-bodies in terms of word count')\nplt.xlabel('Word count in the comments body')\nplt.ylabel('Frequency')\nplt.show()",
      "execution_count": 24,
      "outputs": [
        {
          "output_type": "display_data",
          "data": {
            "text/plain": "<Figure size 864x576 with 1 Axes>",
            "image/png": "[encoded data removed]"
          },
          "metadata": {}
        }
      ]
    },
    {
      "metadata": {
        "trusted": true,
        "_uuid": "59265c64d8abfe2df3dbd44659d1f1df80a234e6"
      },
      "cell_type": "code",
      "source": "#filter comments with thank you \n#filter comments with <html>\n#short thank you i.e length < 10 \n#arrive at the long comments index which can be used for further analysis",
      "execution_count": null,
      "outputs": []
    },
    {
      "metadata": {
        "trusted": true,
        "_uuid": "41bcfa1a68974fb589e34790507d3a28d2df159c"
      },
      "cell_type": "code",
      "source": "comments.head()",
      "execution_count": null,
      "outputs": []
    },
    {
      "metadata": {
        "trusted": true,
        "_uuid": "a817d719de1e2cb6a124db332b125652e1a26e8d"
      },
      "cell_type": "code",
      "source": "len(comments[comments['word_count'] <10]['comments_body'])",
      "execution_count": 27,
      "outputs": [
        {
          "output_type": "execute_result",
          "execution_count": 27,
          "data": {
            "text/plain": "6669"
          },
          "metadata": {}
        }
      ]
    },
    {
      "metadata": {
        "trusted": true,
        "_uuid": "a51bfd94403b2b85c49661a7b96f0b0a94c8bd70"
      },
      "cell_type": "code",
      "source": "comments.shape[0]",
      "execution_count": null,
      "outputs": []
    },
    {
      "metadata": {
        "trusted": true,
        "_uuid": "947c1729cff0eb57c8582c5705a39e4c0f2177e8"
      },
      "cell_type": "code",
      "source": "14966 - 6669",
      "execution_count": 28,
      "outputs": [
        {
          "output_type": "execute_result",
          "execution_count": 28,
          "data": {
            "text/plain": "8297"
          },
          "metadata": {}
        }
      ]
    },
    {
      "metadata": {
        "trusted": true,
        "_uuid": "9c406c3d76e065a517a3a1f1d3d3911410f5daad"
      },
      "cell_type": "code",
      "source": "comments['has_thank_index'] = comments['comments_body'].map(lambda x: 'thank' in x.lower() )",
      "execution_count": null,
      "outputs": []
    },
    {
      "metadata": {
        "trusted": true,
        "_uuid": "23f9710fc0bc7369fbe45d4079ecacfc57f93473"
      },
      "cell_type": "code",
      "source": "comments.loc[:,['comments_body','has_thank_index','word_count']].head()",
      "execution_count": null,
      "outputs": []
    },
    {
      "metadata": {
        "trusted": true,
        "_uuid": "2fbdabea68dfd60760aedce2cc6e6e7cd983a2f0"
      },
      "cell_type": "code",
      "source": "comments_body = comments['comments_body']",
      "execution_count": 29,
      "outputs": []
    },
    {
      "metadata": {
        "trusted": true,
        "_uuid": "2efeed7df3116155fd39263341b0651b1742e71a"
      },
      "cell_type": "code",
      "source": "comments_body[1]",
      "execution_count": null,
      "outputs": []
    },
    {
      "metadata": {
        "trusted": true,
        "_uuid": "c75fd700884c6b75b97ea2cdcf6000b37a4e127b"
      },
      "cell_type": "code",
      "source": "has_thank_index = [  'thank' in str(a).lower()  for a in comments_body  ]",
      "execution_count": 30,
      "outputs": []
    },
    {
      "metadata": {
        "trusted": true,
        "_uuid": "e55d2ef5f8636fa7dada2461eb0c6c20372cccfb"
      },
      "cell_type": "code",
      "source": "print('Number of comments with \"thank\": {}  '.format(sum(has_thank_index)))",
      "execution_count": 31,
      "outputs": [
        {
          "output_type": "stream",
          "text": "Number of comments with \"thank\": 8759  \n",
          "name": "stdout"
        }
      ]
    },
    {
      "metadata": {
        "trusted": true,
        "_uuid": "82fb573d53b2b08adde59049b476054933a0449f"
      },
      "cell_type": "code",
      "source": "comments.shape[0]",
      "execution_count": null,
      "outputs": []
    },
    {
      "metadata": {
        "trusted": true,
        "_uuid": "aa6f6e1fea5923ec5b748a9d7350dccdd64538fb"
      },
      "cell_type": "code",
      "source": "has_html_content = ['<html>' in str(a).lower() for a in comments_body]",
      "execution_count": 32,
      "outputs": []
    },
    {
      "metadata": {
        "trusted": true,
        "_uuid": "9245459803db37c9c5f3fe670a03b860dad25e95"
      },
      "cell_type": "code",
      "source": "type(has_html_content) ",
      "execution_count": 33,
      "outputs": [
        {
          "output_type": "execute_result",
          "execution_count": 33,
          "data": {
            "text/plain": "list"
          },
          "metadata": {}
        }
      ]
    },
    {
      "metadata": {
        "trusted": true,
        "_uuid": "ab9c36e5d054813c2a1811cbd5b3f68e6edebd83"
      },
      "cell_type": "code",
      "source": "sum(has_html_content)",
      "execution_count": 35,
      "outputs": [
        {
          "output_type": "execute_result",
          "execution_count": 35,
          "data": {
            "text/plain": "34"
          },
          "metadata": {}
        }
      ]
    },
    {
      "metadata": {
        "trusted": true,
        "_uuid": "fbcb47afa765f3d7ecf572a1870a66f9b42981a6"
      },
      "cell_type": "code",
      "source": "print('Number of comments with html content: {} '.format(comments_body[has_html_content].count())) \nprint('Number of comments with html content: {}'.format(sum(has_html_content)))",
      "execution_count": 37,
      "outputs": [
        {
          "output_type": "stream",
          "text": "Number of comments with html content: 34 \nNumber of comments with html content: 34\n",
          "name": "stdout"
        }
      ]
    },
    {
      "metadata": {
        "trusted": true,
        "_uuid": "dfabb49ba6a61787dcbd837a3dcd8644d05b394e"
      },
      "cell_type": "code",
      "source": "#short thank you & length < 10 \nshort_thank_index = np.logical_and(has_thank_index, comments['word_count'] < 10 ) ",
      "execution_count": 38,
      "outputs": []
    },
    {
      "metadata": {
        "trusted": true,
        "_uuid": "f146c17141b2de622830eeb2f1e488da04f5c845"
      },
      "cell_type": "code",
      "source": "type(short_thank_index) ",
      "execution_count": 39,
      "outputs": [
        {
          "output_type": "execute_result",
          "execution_count": 39,
          "data": {
            "text/plain": "pandas.core.series.Series"
          },
          "metadata": {}
        }
      ]
    },
    {
      "metadata": {
        "trusted": true,
        "_uuid": "daad7fcce91c18a1e2432f2eb44a30c0ac4c1ab7"
      },
      "cell_type": "code",
      "source": "sum(short_thank_index) ",
      "execution_count": 41,
      "outputs": [
        {
          "output_type": "execute_result",
          "execution_count": 41,
          "data": {
            "text/plain": "5284"
          },
          "metadata": {}
        }
      ]
    },
    {
      "metadata": {
        "trusted": true,
        "_uuid": "ee477c65f35a4a9033e1440a0fb3947f962f6fb7"
      },
      "cell_type": "code",
      "source": "print('Number of comments with a short thank you note: {}'.format(sum(short_thank_index)))",
      "execution_count": 42,
      "outputs": [
        {
          "output_type": "stream",
          "text": "Number of comments with a short thank you note: 5284\n",
          "name": "stdout"
        }
      ]
    },
    {
      "metadata": {
        "trusted": true,
        "_uuid": "ced37f9e39110e5bfa6dd5724544744009aaac87"
      },
      "cell_type": "code",
      "source": "comments_body[short_thank_index].head()",
      "execution_count": 43,
      "outputs": [
        {
          "output_type": "execute_result",
          "execution_count": 43,
          "data": {
            "text/plain": "25           Thank you for the advice!\n28           Thank you for the advice.\n32           Thank you for the advice.\n43    Awesome, thanks for the comment!\n50                     Thank you Wanda\nName: comments_body, dtype: object"
          },
          "metadata": {}
        }
      ]
    },
    {
      "metadata": {
        "trusted": true,
        "_uuid": "8606db2a3a763c9c3d3bc4a26530512e381e4519"
      },
      "cell_type": "code",
      "source": "14966-5284",
      "execution_count": 44,
      "outputs": [
        {
          "output_type": "execute_result",
          "execution_count": 44,
          "data": {
            "text/plain": "9682"
          },
          "metadata": {}
        }
      ]
    },
    {
      "metadata": {
        "trusted": true,
        "_uuid": "3d3f4bba4b1b2da8250eec01653bb327102f8bb7"
      },
      "cell_type": "code",
      "source": "comments_body[np.logical_not(short_thank_index)].head()",
      "execution_count": 45,
      "outputs": [
        {
          "output_type": "execute_result",
          "execution_count": 45,
          "data": {
            "text/plain": "0    First, you speak to recruiters. They are train...\n1    Most large universities offer study abroad pro...\n2    First, I want to put you at ease that the oppo...\n3    Your question submission was great! I just wan...\n4    Thank you. I'm new to this site. I'm sorry if ...\nName: comments_body, dtype: object"
          },
          "metadata": {}
        }
      ]
    },
    {
      "metadata": {
        "trusted": true,
        "_uuid": "45a540918e5cc5bb2f740905384101910cbf8f68"
      },
      "cell_type": "code",
      "source": "comments_body[4]",
      "execution_count": null,
      "outputs": []
    },
    {
      "metadata": {
        "trusted": true,
        "_uuid": "ce2a16cdf35c0fb515bac2f9d52fda814b956adc"
      },
      "cell_type": "code",
      "source": "print(os.listdir('../input/'))",
      "execution_count": null,
      "outputs": []
    },
    {
      "metadata": {
        "trusted": true,
        "_uuid": "851c5be98684930cabbfd7da2f820e98335dab7a"
      },
      "cell_type": "code",
      "source": "tag_users = pd.read_csv('../input/tag_users.csv')",
      "execution_count": 46,
      "outputs": []
    },
    {
      "metadata": {
        "trusted": true,
        "_uuid": "631e924cc510e4765c5c516eff6ce29fb8ea939f"
      },
      "cell_type": "code",
      "source": "tag_users.info()",
      "execution_count": 48,
      "outputs": [
        {
          "output_type": "stream",
          "text": "<class 'pandas.core.frame.DataFrame'>\nRangeIndex: 136663 entries, 0 to 136662\nData columns (total 2 columns):\ntag_users_tag_id     136663 non-null int64\ntag_users_user_id    136663 non-null object\ndtypes: int64(1), object(1)\nmemory usage: 2.1+ MB\n",
          "name": "stdout"
        }
      ]
    },
    {
      "metadata": {
        "trusted": true,
        "_uuid": "2d0de60a74bf350e84d9186cf5eecbd6be88879a"
      },
      "cell_type": "code",
      "source": "tag_users.head()",
      "execution_count": 49,
      "outputs": [
        {
          "output_type": "execute_result",
          "execution_count": 49,
          "data": {
            "text/plain": "   tag_users_tag_id                 tag_users_user_id\n0               593  c72ab38e073246e88da7e9a4ec7a4472\n1              1642  8db519781ec24f2e8bdc67c2ac53f614\n2               638  042d2184ee3e4e548fc3589baaa69caf\n3             11093  c660bd0dc1b34224be78a58aa5a84a63\n4             21539  8ce1dca4e94240239e4385ed22ef43ce",
            "text/html": "<div>\n<style scoped>\n    .dataframe tbody tr th:only-of-type {\n        vertical-align: middle;\n    }\n\n    .dataframe tbody tr th {\n        vertical-align: top;\n    }\n\n    .dataframe thead th {\n        text-align: right;\n    }\n</style>\n<table border=\"1\" class=\"dataframe\">\n  <thead>\n    <tr style=\"text-align: right;\">\n      <th></th>\n      <th>tag_users_tag_id</th>\n      <th>tag_users_user_id</th>\n    </tr>\n  </thead>\n  <tbody>\n    <tr>\n      <th>0</th>\n      <td>593</td>\n      <td>c72ab38e073246e88da7e9a4ec7a4472</td>\n    </tr>\n    <tr>\n      <th>1</th>\n      <td>1642</td>\n      <td>8db519781ec24f2e8bdc67c2ac53f614</td>\n    </tr>\n    <tr>\n      <th>2</th>\n      <td>638</td>\n      <td>042d2184ee3e4e548fc3589baaa69caf</td>\n    </tr>\n    <tr>\n      <th>3</th>\n      <td>11093</td>\n      <td>c660bd0dc1b34224be78a58aa5a84a63</td>\n    </tr>\n    <tr>\n      <th>4</th>\n      <td>21539</td>\n      <td>8ce1dca4e94240239e4385ed22ef43ce</td>\n    </tr>\n  </tbody>\n</table>\n</div>"
          },
          "metadata": {}
        }
      ]
    },
    {
      "metadata": {
        "trusted": true,
        "_uuid": "37786cc24f23deb09c2cbb125529f456c2894c96"
      },
      "cell_type": "code",
      "source": "print(os.listdir('../input/'))",
      "execution_count": 51,
      "outputs": [
        {
          "output_type": "stream",
          "text": "['professionals.csv', 'tag_users.csv', 'students.csv', 'tag_questions.csv', 'groups.csv', 'emails.csv', 'group_memberships.csv', 'answers.csv', 'comments.csv', 'matches.csv', 'tags.csv', 'questions.csv', 'school_memberships.csv']\n",
          "name": "stdout"
        }
      ]
    },
    {
      "metadata": {
        "trusted": true,
        "_uuid": "6d4a866945a25d83925a82e88e7b63afee86a35a"
      },
      "cell_type": "code",
      "source": "tags = pd.read_csv('../input/tags.csv')",
      "execution_count": 52,
      "outputs": []
    },
    {
      "metadata": {
        "trusted": true,
        "_uuid": "cd682a515f0ef5d5e53d9258922c3799680f8c9e"
      },
      "cell_type": "code",
      "source": "tags.head()",
      "execution_count": 53,
      "outputs": [
        {
          "output_type": "execute_result",
          "execution_count": 53,
          "data": {
            "text/plain": "   tags_tag_id      tags_tag_name\n0        27490            college\n1          461   computer-science\n2          593  computer-software\n3        27292           business\n4        18217             doctor",
            "text/html": "<div>\n<style scoped>\n    .dataframe tbody tr th:only-of-type {\n        vertical-align: middle;\n    }\n\n    .dataframe tbody tr th {\n        vertical-align: top;\n    }\n\n    .dataframe thead th {\n        text-align: right;\n    }\n</style>\n<table border=\"1\" class=\"dataframe\">\n  <thead>\n    <tr style=\"text-align: right;\">\n      <th></th>\n      <th>tags_tag_id</th>\n      <th>tags_tag_name</th>\n    </tr>\n  </thead>\n  <tbody>\n    <tr>\n      <th>0</th>\n      <td>27490</td>\n      <td>college</td>\n    </tr>\n    <tr>\n      <th>1</th>\n      <td>461</td>\n      <td>computer-science</td>\n    </tr>\n    <tr>\n      <th>2</th>\n      <td>593</td>\n      <td>computer-software</td>\n    </tr>\n    <tr>\n      <th>3</th>\n      <td>27292</td>\n      <td>business</td>\n    </tr>\n    <tr>\n      <th>4</th>\n      <td>18217</td>\n      <td>doctor</td>\n    </tr>\n  </tbody>\n</table>\n</div>"
          },
          "metadata": {}
        }
      ]
    },
    {
      "metadata": {
        "trusted": true,
        "_uuid": "ab419beaf9bdd044887381d832c51c63d94492ca"
      },
      "cell_type": "code",
      "source": "tags[tags.tags_tag_id == 11093]",
      "execution_count": 55,
      "outputs": [
        {
          "output_type": "execute_result",
          "execution_count": 55,
          "data": {
            "text/plain": "     tags_tag_id tags_tag_name\n341        11093    life-coach",
            "text/html": "<div>\n<style scoped>\n    .dataframe tbody tr th:only-of-type {\n        vertical-align: middle;\n    }\n\n    .dataframe tbody tr th {\n        vertical-align: top;\n    }\n\n    .dataframe thead th {\n        text-align: right;\n    }\n</style>\n<table border=\"1\" class=\"dataframe\">\n  <thead>\n    <tr style=\"text-align: right;\">\n      <th></th>\n      <th>tags_tag_id</th>\n      <th>tags_tag_name</th>\n    </tr>\n  </thead>\n  <tbody>\n    <tr>\n      <th>341</th>\n      <td>11093</td>\n      <td>life-coach</td>\n    </tr>\n  </tbody>\n</table>\n</div>"
          },
          "metadata": {}
        }
      ]
    },
    {
      "metadata": {
        "trusted": true,
        "_uuid": "48c57b24077f8bfffacf46672a327a23de4345fb"
      },
      "cell_type": "code",
      "source": "tag_users.info()",
      "execution_count": 56,
      "outputs": [
        {
          "output_type": "stream",
          "text": "<class 'pandas.core.frame.DataFrame'>\nRangeIndex: 136663 entries, 0 to 136662\nData columns (total 2 columns):\ntag_users_tag_id     136663 non-null int64\ntag_users_user_id    136663 non-null object\ndtypes: int64(1), object(1)\nmemory usage: 2.1+ MB\n",
          "name": "stdout"
        }
      ]
    },
    {
      "metadata": {
        "trusted": true,
        "_uuid": "332b56f8d27d87f9e829bd1f9e868f2575647c6c"
      },
      "cell_type": "code",
      "source": "tag_users_gb_user = tag_users.groupby(by='tag_users_user_id').count()",
      "execution_count": 60,
      "outputs": []
    },
    {
      "metadata": {
        "trusted": true,
        "_uuid": "1465b7b60dd681a57e4c98e69335e75fbd2ed465"
      },
      "cell_type": "code",
      "source": "tag_users_gb_user['tag_users_tag_id'].head()",
      "execution_count": 65,
      "outputs": [
        {
          "output_type": "execute_result",
          "execution_count": 65,
          "data": {
            "text/plain": "tag_users_user_id\n00009a0f9bda43eba47104e9ac62aff5    3\n000196ef8db54b9a86ae70ad31745d04    1\n0008138be908438e8944b21f7f57f2c1    1\n000d4635e5da41e3bfd83677ee11dda4    3\n000e2b5714444d79a672bf927905135c    1\nName: tag_users_tag_id, dtype: int64"
          },
          "metadata": {}
        }
      ]
    },
    {
      "metadata": {
        "trusted": true,
        "_uuid": "414bfdf44ae3ccd0a9135b5501570a82190a22dd"
      },
      "cell_type": "code",
      "source": "#distribution of tags per user \ntag_users_gb_user = tag_users.groupby(by='tag_users_user_id').count()\nplt.figure(figsize=(12,8))\nplt.hist(x = tag_users_gb_user['tag_users_tag_id'].values\n         ,bins=90\n         ,color='blue'\n         ,histtype='bar'\n        )\nplt.title('Distribution of tags per user ')\nplt.xlabel('# of tags')\nplt.ylabel('# of users')\nplt.show()",
      "execution_count": 71,
      "outputs": [
        {
          "output_type": "display_data",
          "data": {
            "text/plain": "<Figure size 864x576 with 1 Axes>",
            "image/png": "[encoded data removed]"
          },
          "metadata": {}
        }
      ]
    },
    {
      "metadata": {
        "trusted": true,
        "_uuid": "9540c28f32e67a47bfb44d39381bb4f78e5a7c55"
      },
      "cell_type": "code",
      "source": "#most common tags\ntag_users_tags = tag_users.merge(right=tags\n                                  ,right_on='tags_tag_id'\n                                  ,left_on='tag_users_tag_id'\n                                  ,how='inner'\n                                 )",
      "execution_count": 73,
      "outputs": []
    },
    {
      "metadata": {
        "trusted": true,
        "_uuid": "4086238cbc1e6ec74e22949cba1d4d4fe606fed2"
      },
      "cell_type": "code",
      "source": "tag_users_tags.shape[0]",
      "execution_count": 75,
      "outputs": [
        {
          "output_type": "execute_result",
          "execution_count": 75,
          "data": {
            "text/plain": "136663"
          },
          "metadata": {}
        }
      ]
    },
    {
      "metadata": {
        "trusted": true,
        "_uuid": "b53bbdf4586ac7df6315d40c3b4ebb1c1dbc0d5d"
      },
      "cell_type": "code",
      "source": "tag_users.shape[0]",
      "execution_count": 76,
      "outputs": [
        {
          "output_type": "execute_result",
          "execution_count": 76,
          "data": {
            "text/plain": "136663"
          },
          "metadata": {}
        }
      ]
    },
    {
      "metadata": {
        "trusted": true,
        "_uuid": "8a509c72159d8b4b2a0bc5de684658534149a299"
      },
      "cell_type": "code",
      "source": "top_30_tags = tag_users_tags['tags_tag_name'].value_counts().sort_values(ascending=True).tail(30)",
      "execution_count": 85,
      "outputs": []
    },
    {
      "metadata": {
        "trusted": true,
        "_uuid": "1e78d9f993ebebff37e514369242438fb5194dd0"
      },
      "cell_type": "code",
      "source": "top_30_tags.head()",
      "execution_count": 94,
      "outputs": [
        {
          "output_type": "execute_result",
          "execution_count": 94,
          "data": {
            "text/plain": "psychology     504\ninternships    504\nmedicine       510\ndesign         511\neducation      515\nName: tags_tag_name, dtype: int64"
          },
          "metadata": {}
        }
      ]
    },
    {
      "metadata": {
        "trusted": true,
        "_uuid": "518c4f83e4f3fffb3a452f36f0b99d485ddbd235"
      },
      "cell_type": "code",
      "source": "plt.figure(figsize=(12,8))\ntop_30_tags.plot(kind='barh'\n                 ,color='blue'\n                 )\nplt.title('Top 30 tags')\nplt.xlabel('# of users')\nplt.ylabel('Tag name')\nplt.show()",
      "execution_count": 96,
      "outputs": [
        {
          "output_type": "display_data",
          "data": {
            "text/plain": "<Figure size 864x576 with 1 Axes>",
            "image/png": "[encoded data removed]"
          },
          "metadata": {}
        }
      ]
    },
    {
      "metadata": {
        "trusted": true,
        "_uuid": "7ddfcbafe0831d00d56d017d9120b5863e9eb85e"
      },
      "cell_type": "code",
      "source": "tag_users.head()",
      "execution_count": 97,
      "outputs": [
        {
          "output_type": "execute_result",
          "execution_count": 97,
          "data": {
            "text/plain": "   tag_users_tag_id                 tag_users_user_id\n0               593  c72ab38e073246e88da7e9a4ec7a4472\n1              1642  8db519781ec24f2e8bdc67c2ac53f614\n2               638  042d2184ee3e4e548fc3589baaa69caf\n3             11093  c660bd0dc1b34224be78a58aa5a84a63\n4             21539  8ce1dca4e94240239e4385ed22ef43ce",
            "text/html": "<div>\n<style scoped>\n    .dataframe tbody tr th:only-of-type {\n        vertical-align: middle;\n    }\n\n    .dataframe tbody tr th {\n        vertical-align: top;\n    }\n\n    .dataframe thead th {\n        text-align: right;\n    }\n</style>\n<table border=\"1\" class=\"dataframe\">\n  <thead>\n    <tr style=\"text-align: right;\">\n      <th></th>\n      <th>tag_users_tag_id</th>\n      <th>tag_users_user_id</th>\n    </tr>\n  </thead>\n  <tbody>\n    <tr>\n      <th>0</th>\n      <td>593</td>\n      <td>c72ab38e073246e88da7e9a4ec7a4472</td>\n    </tr>\n    <tr>\n      <th>1</th>\n      <td>1642</td>\n      <td>8db519781ec24f2e8bdc67c2ac53f614</td>\n    </tr>\n    <tr>\n      <th>2</th>\n      <td>638</td>\n      <td>042d2184ee3e4e548fc3589baaa69caf</td>\n    </tr>\n    <tr>\n      <th>3</th>\n      <td>11093</td>\n      <td>c660bd0dc1b34224be78a58aa5a84a63</td>\n    </tr>\n    <tr>\n      <th>4</th>\n      <td>21539</td>\n      <td>8ce1dca4e94240239e4385ed22ef43ce</td>\n    </tr>\n  </tbody>\n</table>\n</div>"
          },
          "metadata": {}
        }
      ]
    },
    {
      "metadata": {
        "trusted": true,
        "_uuid": "0392b71c708ce6b4b0353651915a864620fa6fe7"
      },
      "cell_type": "code",
      "source": "students.info()",
      "execution_count": 102,
      "outputs": [
        {
          "output_type": "stream",
          "text": "<class 'pandas.core.frame.DataFrame'>\nRangeIndex: 30971 entries, 0 to 30970\nData columns (total 3 columns):\nstudents_id             30971 non-null object\nstudents_location       28938 non-null object\nstudents_date_joined    30971 non-null datetime64[ns]\ndtypes: datetime64[ns](1), object(2)\nmemory usage: 726.0+ KB\n",
          "name": "stdout"
        }
      ]
    },
    {
      "metadata": {
        "trusted": true,
        "_uuid": "80364de01f8dac1e6e8048407a744e6d81038b22"
      },
      "cell_type": "code",
      "source": "tag_users['is_professional'] = tag_users['tag_users_user_id'].isin(list(professionals['professionals_id']))",
      "execution_count": 99,
      "outputs": []
    },
    {
      "metadata": {
        "trusted": true,
        "_uuid": "6b70214d570f28206d55dc0957164f6a1387a001"
      },
      "cell_type": "code",
      "source": "tag_users.head()",
      "execution_count": 100,
      "outputs": [
        {
          "output_type": "execute_result",
          "execution_count": 100,
          "data": {
            "text/plain": "   tag_users_tag_id       ...       is_professional\n0               593       ...                  True\n1              1642       ...                  True\n2               638       ...                  True\n3             11093       ...                  True\n4             21539       ...                  True\n\n[5 rows x 3 columns]",
            "text/html": "<div>\n<style scoped>\n    .dataframe tbody tr th:only-of-type {\n        vertical-align: middle;\n    }\n\n    .dataframe tbody tr th {\n        vertical-align: top;\n    }\n\n    .dataframe thead th {\n        text-align: right;\n    }\n</style>\n<table border=\"1\" class=\"dataframe\">\n  <thead>\n    <tr style=\"text-align: right;\">\n      <th></th>\n      <th>tag_users_tag_id</th>\n      <th>tag_users_user_id</th>\n      <th>is_professional</th>\n    </tr>\n  </thead>\n  <tbody>\n    <tr>\n      <th>0</th>\n      <td>593</td>\n      <td>c72ab38e073246e88da7e9a4ec7a4472</td>\n      <td>True</td>\n    </tr>\n    <tr>\n      <th>1</th>\n      <td>1642</td>\n      <td>8db519781ec24f2e8bdc67c2ac53f614</td>\n      <td>True</td>\n    </tr>\n    <tr>\n      <th>2</th>\n      <td>638</td>\n      <td>042d2184ee3e4e548fc3589baaa69caf</td>\n      <td>True</td>\n    </tr>\n    <tr>\n      <th>3</th>\n      <td>11093</td>\n      <td>c660bd0dc1b34224be78a58aa5a84a63</td>\n      <td>True</td>\n    </tr>\n    <tr>\n      <th>4</th>\n      <td>21539</td>\n      <td>8ce1dca4e94240239e4385ed22ef43ce</td>\n      <td>True</td>\n    </tr>\n  </tbody>\n</table>\n</div>"
          },
          "metadata": {}
        }
      ]
    },
    {
      "metadata": {
        "trusted": true,
        "_uuid": "52bbf51ec238edeca59492f18a0c99f2765c2610"
      },
      "cell_type": "code",
      "source": "professionals[professionals.professionals_id == 'c72ab38e073246e88da7e9a4ec7a4472']",
      "execution_count": 101,
      "outputs": [
        {
          "output_type": "execute_result",
          "execution_count": 101,
          "data": {
            "text/plain": "                     professionals_id            ...            professionals_date_joined\n785  c72ab38e073246e88da7e9a4ec7a4472            ...                  2014-02-13 22:30:36\n\n[1 rows x 5 columns]",
            "text/html": "<div>\n<style scoped>\n    .dataframe tbody tr th:only-of-type {\n        vertical-align: middle;\n    }\n\n    .dataframe tbody tr th {\n        vertical-align: top;\n    }\n\n    .dataframe thead th {\n        text-align: right;\n    }\n</style>\n<table border=\"1\" class=\"dataframe\">\n  <thead>\n    <tr style=\"text-align: right;\">\n      <th></th>\n      <th>professionals_id</th>\n      <th>professionals_location</th>\n      <th>professionals_industry</th>\n      <th>professionals_headline</th>\n      <th>professionals_date_joined</th>\n    </tr>\n  </thead>\n  <tbody>\n    <tr>\n      <th>785</th>\n      <td>c72ab38e073246e88da7e9a4ec7a4472</td>\n      <td>Tempe, Arizona</td>\n      <td>Computer Software</td>\n      <td>Software Engineer at LinkedIn</td>\n      <td>2014-02-13 22:30:36</td>\n    </tr>\n  </tbody>\n</table>\n</div>"
          },
          "metadata": {}
        }
      ]
    },
    {
      "metadata": {
        "trusted": true,
        "_uuid": "2a54e39e2ba4529f746f70ddee95c8c76b7e3e3d"
      },
      "cell_type": "code",
      "source": "tag_users['is_student'] = tag_users['tag_users_user_id'].isin(list(students['students_id']))",
      "execution_count": 103,
      "outputs": []
    },
    {
      "metadata": {
        "trusted": true,
        "_uuid": "6aa7c90fd8d7b0970bd4056441f4db131d412372"
      },
      "cell_type": "code",
      "source": "tag_users[tag_users.is_student == True].head()",
      "execution_count": 104,
      "outputs": [
        {
          "output_type": "execute_result",
          "execution_count": 104,
          "data": {
            "text/plain": "    tag_users_tag_id    ...     is_student\n10              8593    ...           True\n11             11460    ...           True\n28             30067    ...           True\n42                89    ...           True\n48                89    ...           True\n\n[5 rows x 4 columns]",
            "text/html": "<div>\n<style scoped>\n    .dataframe tbody tr th:only-of-type {\n        vertical-align: middle;\n    }\n\n    .dataframe tbody tr th {\n        vertical-align: top;\n    }\n\n    .dataframe thead th {\n        text-align: right;\n    }\n</style>\n<table border=\"1\" class=\"dataframe\">\n  <thead>\n    <tr style=\"text-align: right;\">\n      <th></th>\n      <th>tag_users_tag_id</th>\n      <th>tag_users_user_id</th>\n      <th>is_professional</th>\n      <th>is_student</th>\n    </tr>\n  </thead>\n  <tbody>\n    <tr>\n      <th>10</th>\n      <td>8593</td>\n      <td>82cc74c0e18347e4b68b219e250eb10f</td>\n      <td>False</td>\n      <td>True</td>\n    </tr>\n    <tr>\n      <th>11</th>\n      <td>11460</td>\n      <td>d68c9bc7d1a841dc95164ced387275e0</td>\n      <td>False</td>\n      <td>True</td>\n    </tr>\n    <tr>\n      <th>28</th>\n      <td>30067</td>\n      <td>c734f2d3fdc4446393a096b3a1b7be62</td>\n      <td>False</td>\n      <td>True</td>\n    </tr>\n    <tr>\n      <th>42</th>\n      <td>89</td>\n      <td>f38238fbe6c8436796bc8218e83880de</td>\n      <td>False</td>\n      <td>True</td>\n    </tr>\n    <tr>\n      <th>48</th>\n      <td>89</td>\n      <td>2c4d7814a806431ab1161d77c0243b23</td>\n      <td>False</td>\n      <td>True</td>\n    </tr>\n  </tbody>\n</table>\n</div>"
          },
          "metadata": {}
        }
      ]
    },
    {
      "metadata": {
        "trusted": true,
        "_uuid": "496bd061a270f0f4fd15684f28efc050a4a9b604"
      },
      "cell_type": "code",
      "source": "students[students.students_id == '82cc74c0e18347e4b68b219e250eb10f']",
      "execution_count": 108,
      "outputs": [
        {
          "output_type": "execute_result",
          "execution_count": 108,
          "data": {
            "text/plain": "                            students_id         ...          students_date_joined\n11728  82cc74c0e18347e4b68b219e250eb10f         ...           2016-05-28 03:00:23\n\n[1 rows x 3 columns]",
            "text/html": "<div>\n<style scoped>\n    .dataframe tbody tr th:only-of-type {\n        vertical-align: middle;\n    }\n\n    .dataframe tbody tr th {\n        vertical-align: top;\n    }\n\n    .dataframe thead th {\n        text-align: right;\n    }\n</style>\n<table border=\"1\" class=\"dataframe\">\n  <thead>\n    <tr style=\"text-align: right;\">\n      <th></th>\n      <th>students_id</th>\n      <th>students_location</th>\n      <th>students_date_joined</th>\n    </tr>\n  </thead>\n  <tbody>\n    <tr>\n      <th>11728</th>\n      <td>82cc74c0e18347e4b68b219e250eb10f</td>\n      <td>Hemet, California</td>\n      <td>2016-05-28 03:00:23</td>\n    </tr>\n  </tbody>\n</table>\n</div>"
          },
          "metadata": {}
        }
      ]
    },
    {
      "metadata": {
        "trusted": true,
        "_uuid": "e11004dc068e3be78fda1bf9c618a21941776b4e"
      },
      "cell_type": "code",
      "source": "tag_users['is_other'] = np.logical_not(np.logical_or(tag_users['is_professional'],tag_users['is_student']))",
      "execution_count": 112,
      "outputs": []
    },
    {
      "metadata": {
        "trusted": true,
        "_uuid": "35a3e3ae9047ba45106c3c6ec32782bec3040941"
      },
      "cell_type": "code",
      "source": "tag_users['is_other'].sum()",
      "execution_count": 113,
      "outputs": [
        {
          "output_type": "execute_result",
          "execution_count": 113,
          "data": {
            "text/plain": "0"
          },
          "metadata": {}
        }
      ]
    },
    {
      "metadata": {
        "trusted": true,
        "_uuid": "9e3bee51547d8468bcd4baea62622328beca0c4c"
      },
      "cell_type": "code",
      "source": "tag_users.drop(labels=['is_other'],inplace=True,axis=1)",
      "execution_count": 115,
      "outputs": []
    },
    {
      "metadata": {
        "trusted": true,
        "_uuid": "02be4b6dcbeb36e964ee207f4351c085bef8db68"
      },
      "cell_type": "code",
      "source": "tag_users.info()",
      "execution_count": 116,
      "outputs": [
        {
          "output_type": "stream",
          "text": "<class 'pandas.core.frame.DataFrame'>\nRangeIndex: 136663 entries, 0 to 136662\nData columns (total 4 columns):\ntag_users_tag_id     136663 non-null int64\ntag_users_user_id    136663 non-null object\nis_professional      136663 non-null bool\nis_student           136663 non-null bool\ndtypes: bool(2), int64(1), object(1)\nmemory usage: 2.3+ MB\n",
          "name": "stdout"
        }
      ]
    },
    {
      "metadata": {
        "trusted": true,
        "_uuid": "bb9f9795b5eeca94921b9aa3a5d397847732e497"
      },
      "cell_type": "code",
      "source": "#tag_users.tag_users_user_id.nunique()\n#tag_users[tag_users['is_professional'] == True]['tag_users_user_id'].nunique()\ntag_users[tag_users['is_student'] == True ]['tag_users_user_id'].nunique()",
      "execution_count": 143,
      "outputs": [
        {
          "output_type": "execute_result",
          "execution_count": 143,
          "data": {
            "text/plain": "4608"
          },
          "metadata": {}
        }
      ]
    },
    {
      "metadata": {
        "trusted": true,
        "_uuid": "5fe5bdf86a30c7564f8e3b17946e2b3caeaadbc1"
      },
      "cell_type": "code",
      "source": "print('Of the {} tagged users, {} are professionals and {} are students'.format(tag_users.tag_users_user_id.nunique()\n                                                                               ,tag_users[tag_users['is_professional'] == True]['tag_users_user_id'].nunique()\n                                                                               ,tag_users[tag_users['is_student'] == True ]['tag_users_user_id'].nunique())\n     )",
      "execution_count": 144,
      "outputs": [
        {
          "output_type": "stream",
          "text": "Of the 30202 tagged users, 25594 are professionals and 4608 are students\n",
          "name": "stdout"
        }
      ]
    },
    {
      "metadata": {
        "trusted": true,
        "_uuid": "9a01875d7546d31f4daf9aa5242fc826f7219516"
      },
      "cell_type": "code",
      "source": "#tag_users.shape[0]\n#tag_users['is_professional'].sum()\ntag_users['is_student'].sum()",
      "execution_count": 147,
      "outputs": [
        {
          "output_type": "execute_result",
          "execution_count": 147,
          "data": {
            "text/plain": "19205"
          },
          "metadata": {}
        }
      ]
    },
    {
      "metadata": {
        "trusted": true,
        "_uuid": "8b8469e61343b851237d00607c4affddf15b9521"
      },
      "cell_type": "code",
      "source": "print('Of the total {} tags, {} have been given to students and {} to professionals '.format(tag_users.shape[0]\n                                                                                            ,tag_users['is_student'].sum()\n                                                                                            ,tag_users['is_professional'].sum())\n     )",
      "execution_count": 148,
      "outputs": [
        {
          "output_type": "stream",
          "text": "Of the total 136663 tags, 19205 have been given to students and 117458 to professionals \n",
          "name": "stdout"
        }
      ]
    },
    {
      "metadata": {
        "trusted": true,
        "_uuid": "8cf5c33258f4c9cfe8358a05bab361f63248eccb"
      },
      "cell_type": "code",
      "source": "#top 30 tags for students \ntag_users_tags = tag_users.merge(right=tags\n                                  ,left_on='tag_users_tag_id'\n                                  ,right_on='tags_tag_id'\n                                  ,how='inner'\n                                 )\n                                  ",
      "execution_count": 153,
      "outputs": []
    },
    {
      "metadata": {
        "trusted": true,
        "_uuid": "4139626ed057acd358fb53f072035568ffb7c9a0"
      },
      "cell_type": "code",
      "source": "top_20_student_tags = tag_users_tags[tag_users_tags.is_student == True ]['tags_tag_name'].value_counts(ascending=True).tail(20)",
      "execution_count": 159,
      "outputs": []
    },
    {
      "metadata": {
        "trusted": true,
        "_uuid": "c3d49432e86cc090c0fa83e3c220ae45221e965c"
      },
      "cell_type": "code",
      "source": "fig,ax = plt.subplots(1,1,figsize=(12,8))\ntop_20_student_tags.plot(kind='barh'\n                         ,color='blue'\n                        )\nplt.xlabel('# of students')\nplt.ylabel('Tag name')\nplt.title('Top 20 student tags')\nplt.show()",
      "execution_count": 160,
      "outputs": [
        {
          "output_type": "display_data",
          "data": {
            "text/plain": "<Figure size 864x576 with 1 Axes>",
            "image/png": "[encoded data removed]"
          },
          "metadata": {}
        }
      ]
    },
    {
      "metadata": {
        "trusted": true,
        "_uuid": "78bb0c104b5077dcc528a66be05b8dfa32e57b21"
      },
      "cell_type": "code",
      "source": "import plotly.plotly as py\nimport plotly.graph_objs as go\nfrom plotly.offline import init_notebook_mode, iplot",
      "execution_count": 161,
      "outputs": []
    },
    {
      "metadata": {
        "trusted": true,
        "_uuid": "9b1dd51e5ac92ec7ba1b6973cd51902f656c4e81"
      },
      "cell_type": "code",
      "source": "init_notebook_mode(connected=True)",
      "execution_count": 168,
      "outputs": [
        {
          "output_type": "display_data",
          "data": {
            "text/html": "<script type=\"text/javascript\">window.PlotlyConfig = {MathJaxConfig: 'local'};</script><script type=\"text/javascript\">if (window.MathJax) {MathJax.Hub.Config({SVG: {font: \"STIX-Web\"}});}</script><script>requirejs.config({paths: { 'plotly': ['https://cdn.plot.ly/plotly-latest.min']},});if(!window._Plotly) {require(['plotly'],function(plotly) {window._Plotly=plotly;});}</script>",
            "text/vnd.plotly.v1+html": "<script type=\"text/javascript\">window.PlotlyConfig = {MathJaxConfig: 'local'};</script><script type=\"text/javascript\">if (window.MathJax) {MathJax.Hub.Config({SVG: {font: \"STIX-Web\"}});}</script><script>requirejs.config({paths: { 'plotly': ['https://cdn.plot.ly/plotly-latest.min']},});if(!window._Plotly) {require(['plotly'],function(plotly) {window._Plotly=plotly;});}</script>"
          },
          "metadata": {}
        }
      ]
    },
    {
      "metadata": {
        "trusted": true,
        "_uuid": "14e940eef9153b5903e9dfd9064953b45059e017"
      },
      "cell_type": "code",
      "source": "top_20_student_tags",
      "execution_count": 170,
      "outputs": [
        {
          "output_type": "execute_result",
          "execution_count": 170,
          "data": {
            "text/plain": "scholarships     105\nlaw              107\ncollege-major    109\nengineer         109\nart              115\nteacher          121\ntechnology       140\nmusic            145\nbiology          148\nnursing          149\nteaching         156\nprofessional     168\ncareer           169\nscience          174\ndoctor           195\nmedicine         197\npsychology       199\nengineering      207\nbusiness         213\ncollege          475\nName: tags_tag_name, dtype: int64"
          },
          "metadata": {}
        }
      ]
    },
    {
      "metadata": {
        "trusted": true,
        "_uuid": "a7b8570b6054b29d380f4d4cbda37bddb0e6d717"
      },
      "cell_type": "code",
      "source": "list(top_20_student_tags.index)",
      "execution_count": 167,
      "outputs": [
        {
          "output_type": "execute_result",
          "execution_count": 167,
          "data": {
            "text/plain": "['scholarships',\n 'law',\n 'college-major',\n 'engineer',\n 'art',\n 'teacher',\n 'technology',\n 'music',\n 'biology',\n 'nursing',\n 'teaching',\n 'professional',\n 'career',\n 'science',\n 'doctor',\n 'medicine',\n 'psychology',\n 'engineering',\n 'business',\n 'college']"
          },
          "metadata": {}
        }
      ]
    },
    {
      "metadata": {
        "trusted": true,
        "_uuid": "71c8262658d4e8cccff1d9b6a43ec102c41519de"
      },
      "cell_type": "code",
      "source": "data = [go.Pie(values=top_20_student_tags.values\n               ,labels=list(top_20_student_tags.index)\n              )\n       ]\nlayout=dict(\n    width=1000\n    ,height=800\n    ,title='Top 20 student tags'\n    ,xaxis=dict(\n        title='# Users'\n    )\n    ,yaxis=go.layout.YAxis(\n        automargin=True\n        ,titlefont=dict(size=30)\n        ,tickfont=dict(size=12)\n    )\n)\nfig = go.Figure(data=data,layout=layout)\niplot(fig)",
      "execution_count": 169,
      "outputs": [
        {
          "output_type": "display_data",
          "data": {
            "application/vnd.plotly.v1+json": {
              "data": [
                {
                  "labels": [
                    "scholarships",
                    "law",
                    "college-major",
                    "engineer",
                    "art",
                    "teacher",
                    "technology",
                    "music",
                    "biology",
                    "nursing",
                    "teaching",
                    "professional",
                    "career",
                    "science",
                    "doctor",
                    "medicine",
                    "psychology",
                    "engineering",
                    "business",
                    "college"
                  ],
                  "values": [
                    105,
                    107,
                    109,
                    109,
                    115,
                    121,
                    140,
                    145,
                    148,
                    149,
                    156,
                    168,
                    169,
                    174,
                    195,
                    197,
                    199,
                    207,
                    213,
                    475
                  ],
                  "type": "pie",
                  "uid": "b3657315-6cba-4c98-9993-9a63c97de6e4"
                }
              ],
              "layout": {
                "height": 800,
                "title": {
                  "text": "Top 20 student tags"
                },
                "width": 1000,
                "xaxis": {
                  "title": {
                    "text": "# Users"
                  }
                },
                "yaxis": {
                  "automargin": true,
                  "tickfont": {
                    "size": 12
                  },
                  "title": {
                    "font": {
                      "size": 30
                    }
                  }
                }
              },
              "config": {
                "showLink": false,
                "linkText": "Export to plot.ly",
                "plotlyServerURL": "https://plot.ly"
              }
            },
            "text/html": "<div id=\"d18c3a4b-5cf4-4dea-8836-ab8481cf3f7b\" style=\"height: 800px; width: 1000px;\" class=\"plotly-graph-div\"></div><script type=\"text/javascript\">require([\"plotly\"], function(Plotly) { window.PLOTLYENV=window.PLOTLYENV || {};window.PLOTLYENV.BASE_URL=\"https://plot.ly\";\nif (document.getElementById(\"d18c3a4b-5cf4-4dea-8836-ab8481cf3f7b\")) {\n    Plotly.newPlot(\"d18c3a4b-5cf4-4dea-8836-ab8481cf3f7b\", [{\"labels\": [\"scholarships\", \"law\", \"college-major\", \"engineer\", \"art\", \"teacher\", \"technology\", \"music\", \"biology\", \"nursing\", \"teaching\", \"professional\", \"career\", \"science\", \"doctor\", \"medicine\", \"psychology\", \"engineering\", \"business\", \"college\"], \"values\": [105, 107, 109, 109, 115, 121, 140, 145, 148, 149, 156, 168, 169, 174, 195, 197, 199, 207, 213, 475], \"type\": \"pie\", \"uid\": \"b3657315-6cba-4c98-9993-9a63c97de6e4\"}], {\"height\": 800, \"title\": {\"text\": \"Top 20 student tags\"}, \"width\": 1000, \"xaxis\": {\"title\": {\"text\": \"# Users\"}}, \"yaxis\": {\"automargin\": true, \"tickfont\": {\"size\": 12}, \"title\": {\"font\": {\"size\": 30}}}}, {\"showLink\": false, \"linkText\": \"Export to plot.ly\", \"plotlyServerURL\": \"https://plot.ly\"}); \n}\n});</script>",
            "text/vnd.plotly.v1+html": "<div id=\"d18c3a4b-5cf4-4dea-8836-ab8481cf3f7b\" style=\"height: 800px; width: 1000px;\" class=\"plotly-graph-div\"></div><script type=\"text/javascript\">require([\"plotly\"], function(Plotly) { window.PLOTLYENV=window.PLOTLYENV || {};window.PLOTLYENV.BASE_URL=\"https://plot.ly\";\nif (document.getElementById(\"d18c3a4b-5cf4-4dea-8836-ab8481cf3f7b\")) {\n    Plotly.newPlot(\"d18c3a4b-5cf4-4dea-8836-ab8481cf3f7b\", [{\"labels\": [\"scholarships\", \"law\", \"college-major\", \"engineer\", \"art\", \"teacher\", \"technology\", \"music\", \"biology\", \"nursing\", \"teaching\", \"professional\", \"career\", \"science\", \"doctor\", \"medicine\", \"psychology\", \"engineering\", \"business\", \"college\"], \"values\": [105, 107, 109, 109, 115, 121, 140, 145, 148, 149, 156, 168, 169, 174, 195, 197, 199, 207, 213, 475], \"type\": \"pie\", \"uid\": \"b3657315-6cba-4c98-9993-9a63c97de6e4\"}], {\"height\": 800, \"title\": {\"text\": \"Top 20 student tags\"}, \"width\": 1000, \"xaxis\": {\"title\": {\"text\": \"# Users\"}}, \"yaxis\": {\"automargin\": true, \"tickfont\": {\"size\": 12}, \"title\": {\"font\": {\"size\": 30}}}}, {\"showLink\": false, \"linkText\": \"Export to plot.ly\", \"plotlyServerURL\": \"https://plot.ly\"}); \n}\n});</script>"
          },
          "metadata": {}
        }
      ]
    },
    {
      "metadata": {
        "trusted": true,
        "_uuid": "25c20bf0347bb25a9a50773fae2cbdc0c76fdff1"
      },
      "cell_type": "code",
      "source": "",
      "execution_count": null,
      "outputs": []
    }
  ],
  "metadata": {
    "kernelspec": {
      "display_name": "Python 3",
      "language": "python",
      "name": "python3"
    },
    "language_info": {
      "name": "python",
      "version": "3.6.6",
      "mimetype": "text/x-python",
      "codemirror_mode": {
        "name": "ipython",
        "version": 3
      },
      "pygments_lexer": "ipython3",
      "nbconvert_exporter": "python",
      "file_extension": ".py"
    }
  },
  "nbformat": 4,
  "nbformat_minor": 1
}